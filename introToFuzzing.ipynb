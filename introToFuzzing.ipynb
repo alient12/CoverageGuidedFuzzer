{
  "cells": [
    {
      "cell_type": "markdown",
      "metadata": {
        "id": "lM8LQL_wfI8-"
      },
      "source": [
        "# Introduction to Fuzzing"
      ]
    },
    {
      "cell_type": "markdown",
      "metadata": {
        "id": "_FbxWWi-fI8_"
      },
      "source": [
        "Note: A lot of the contents are taken from the [fuzzing book](https://www.fuzzingbook.org) with some modifications.\n"
      ]
    },
    {
      "cell_type": "markdown",
      "metadata": {
        "id": "swJk1rLpfI9A"
      },
      "source": [
        "* Fuzzing is a way to automatically generate test cases in order to uncover unexpected program behaviour (e.g., crashes, memory leaks, or other types of bugs).\n",
        "\n",
        "\n",
        "* In many cases, we try to *automatically* generate *random* inputs to test a program.\n"
      ]
    },
    {
      "cell_type": "markdown",
      "metadata": {
        "id": "VaG9y4dyfI9A"
      },
      "source": [
        "Let's install some dependencies. The code below installs the dependency in Jupyter only. A recommended way is to run \"pip install fuzzingbook\" on the command line."
      ]
    },
    {
      "cell_type": "code",
      "source": [
        "!apt-get install python3-dev graphviz libgraphviz-dev pkg-config"
      ],
      "metadata": {
        "colab": {
          "base_uri": "https://localhost:8080/"
        },
        "id": "pFkd39-clN-6",
        "outputId": "15a1334d-ba14-415c-f391-953291195db1"
      },
      "execution_count": 43,
      "outputs": [
        {
          "output_type": "stream",
          "name": "stdout",
          "text": [
            "Reading package lists... Done\n",
            "Building dependency tree... Done\n",
            "Reading state information... Done\n",
            "pkg-config is already the newest version (0.29.2-1ubuntu3).\n",
            "python3-dev is already the newest version (3.10.6-1~22.04.1).\n",
            "graphviz is already the newest version (2.42.2-6ubuntu0.1).\n",
            "libgraphviz-dev is already the newest version (2.42.2-6ubuntu0.1).\n",
            "The following packages were automatically installed and are no longer required:\n",
            "  libbz2-dev libpkgconf3 libreadline-dev\n",
            "Use 'apt autoremove' to remove them.\n",
            "0 upgraded, 0 newly installed, 0 to remove and 29 not upgraded.\n"
          ]
        }
      ]
    },
    {
      "cell_type": "code",
      "execution_count": 44,
      "metadata": {
        "colab": {
          "base_uri": "https://localhost:8080/"
        },
        "id": "aV8Rw77-fI9A",
        "outputId": "1b860d6e-1562-4b29-ba34-53fcc5ec848e"
      },
      "outputs": [
        {
          "output_type": "stream",
          "name": "stdout",
          "text": [
            "Requirement already satisfied: fuzzingbook in /usr/local/lib/python3.11/dist-packages (1.2.2)\n",
            "Requirement already satisfied: beautifulsoup4>=4.9.3 in /usr/local/lib/python3.11/dist-packages (from fuzzingbook) (4.13.3)\n",
            "Requirement already satisfied: cargo>=0.3 in /usr/local/lib/python3.11/dist-packages (from fuzzingbook) (0.3)\n",
            "Requirement already satisfied: diff-match-patch>=20200713 in /usr/local/lib/python3.11/dist-packages (from fuzzingbook) (20241021)\n",
            "Requirement already satisfied: easyplotly>=0.1.3 in /usr/local/lib/python3.11/dist-packages (from fuzzingbook) (0.1.3)\n",
            "Requirement already satisfied: enforce>=0.3.4 in /usr/local/lib/python3.11/dist-packages (from fuzzingbook) (0.3.4)\n",
            "Requirement already satisfied: graphviz>=0.14.2 in /usr/local/lib/python3.11/dist-packages (from fuzzingbook) (0.20.3)\n",
            "Requirement already satisfied: ipython>=7.16.1 in /usr/local/lib/python3.11/dist-packages (from fuzzingbook) (7.34.0)\n",
            "Requirement already satisfied: lxml>=4.5.1 in /usr/local/lib/python3.11/dist-packages (from fuzzingbook) (5.3.1)\n",
            "Requirement already satisfied: Markdown>=3.3.4 in /usr/local/lib/python3.11/dist-packages (from fuzzingbook) (3.7)\n",
            "Requirement already satisfied: matplotlib>=3.3.2 in /usr/local/lib/python3.11/dist-packages (from fuzzingbook) (3.10.0)\n",
            "Requirement already satisfied: multiprocess>=0.70.12.2 in /usr/local/lib/python3.11/dist-packages (from fuzzingbook) (0.70.17)\n",
            "Requirement already satisfied: nbconvert>=6.0.7 in /usr/local/lib/python3.11/dist-packages (from fuzzingbook) (7.16.6)\n",
            "Requirement already satisfied: nbformat>=5.0.8 in /usr/local/lib/python3.11/dist-packages (from fuzzingbook) (5.10.4)\n",
            "Requirement already satisfied: networkx>=2.5 in /usr/local/lib/python3.11/dist-packages (from fuzzingbook) (3.4.2)\n",
            "Requirement already satisfied: notedown>=1.5.1 in /usr/local/lib/python3.11/dist-packages (from fuzzingbook) (1.5.1)\n",
            "Requirement already satisfied: numpy>=1.16.5 in /usr/local/lib/python3.11/dist-packages (from fuzzingbook) (1.26.4)\n",
            "Requirement already satisfied: pandas>=1.3.3 in /usr/local/lib/python3.11/dist-packages (from fuzzingbook) (2.2.2)\n",
            "Requirement already satisfied: pydriller>=2.0 in /usr/local/lib/python3.11/dist-packages (from fuzzingbook) (2.7)\n",
            "Requirement already satisfied: pyparsing==2.4.7 in /usr/local/lib/python3.11/dist-packages (from fuzzingbook) (2.4.7)\n",
            "Requirement already satisfied: pygraphviz>=1.9 in /usr/local/lib/python3.11/dist-packages (from fuzzingbook) (1.14)\n",
            "Requirement already satisfied: Pygments>=2.7.1 in /usr/local/lib/python3.11/dist-packages (from fuzzingbook) (2.18.0)\n",
            "Requirement already satisfied: python-magic>=0.4.18 in /usr/local/lib/python3.11/dist-packages (from fuzzingbook) (0.4.27)\n",
            "Requirement already satisfied: requests>=2.26.0 in /usr/local/lib/python3.11/dist-packages (from fuzzingbook) (2.32.3)\n",
            "Requirement already satisfied: scikit-learn>=0.23.2 in /usr/local/lib/python3.11/dist-packages (from fuzzingbook) (1.6.1)\n",
            "Requirement already satisfied: scipy>=1.7.1 in /usr/local/lib/python3.11/dist-packages (from fuzzingbook) (1.14.1)\n",
            "Requirement already satisfied: selenium>=3.141.0 in /usr/local/lib/python3.11/dist-packages (from fuzzingbook) (4.29.0)\n",
            "Requirement already satisfied: showast>=0.2.4 in /usr/local/lib/python3.11/dist-packages (from fuzzingbook) (0.2.4)\n",
            "Requirement already satisfied: svglib>=1.1.0 in /usr/local/lib/python3.11/dist-packages (from fuzzingbook) (1.5.1)\n",
            "Requirement already satisfied: yapf>=0.31.0 in /usr/local/lib/python3.11/dist-packages (from fuzzingbook) (0.43.0)\n",
            "Requirement already satisfied: z3-solver>=4.8.13.0 in /usr/local/lib/python3.11/dist-packages (from fuzzingbook) (4.11.2.0)\n",
            "Requirement already satisfied: isla-solver>=0.8.2 in /usr/local/lib/python3.11/dist-packages (from fuzzingbook) (1.14.4)\n",
            "Requirement already satisfied: soupsieve>1.2 in /usr/local/lib/python3.11/dist-packages (from beautifulsoup4>=4.9.3->fuzzingbook) (2.6)\n",
            "Requirement already satisfied: typing-extensions>=4.0.0 in /usr/local/lib/python3.11/dist-packages (from beautifulsoup4>=4.9.3->fuzzingbook) (4.12.2)\n",
            "Requirement already satisfied: plotly in /usr/local/lib/python3.11/dist-packages (from easyplotly>=0.1.3->fuzzingbook) (5.24.1)\n",
            "Requirement already satisfied: wrapt in /usr/local/lib/python3.11/dist-packages (from enforce>=0.3.4->fuzzingbook) (1.17.2)\n",
            "Requirement already satisfied: setuptools>=18.5 in /usr/local/lib/python3.11/dist-packages (from ipython>=7.16.1->fuzzingbook) (75.1.0)\n",
            "Requirement already satisfied: jedi>=0.16 in /usr/local/lib/python3.11/dist-packages (from ipython>=7.16.1->fuzzingbook) (0.19.2)\n",
            "Requirement already satisfied: decorator in /usr/local/lib/python3.11/dist-packages (from ipython>=7.16.1->fuzzingbook) (4.4.2)\n",
            "Requirement already satisfied: pickleshare in /usr/local/lib/python3.11/dist-packages (from ipython>=7.16.1->fuzzingbook) (0.7.5)\n",
            "Requirement already satisfied: traitlets>=4.2 in /usr/local/lib/python3.11/dist-packages (from ipython>=7.16.1->fuzzingbook) (5.7.1)\n",
            "Requirement already satisfied: prompt-toolkit!=3.0.0,!=3.0.1,<3.1.0,>=2.0.0 in /usr/local/lib/python3.11/dist-packages (from ipython>=7.16.1->fuzzingbook) (3.0.50)\n",
            "Requirement already satisfied: backcall in /usr/local/lib/python3.11/dist-packages (from ipython>=7.16.1->fuzzingbook) (0.2.0)\n",
            "Requirement already satisfied: matplotlib-inline in /usr/local/lib/python3.11/dist-packages (from ipython>=7.16.1->fuzzingbook) (0.1.7)\n",
            "Requirement already satisfied: pexpect>4.3 in /usr/local/lib/python3.11/dist-packages (from ipython>=7.16.1->fuzzingbook) (4.9.0)\n",
            "Requirement already satisfied: antlr4-python3-runtime>=4.13 in /usr/local/lib/python3.11/dist-packages (from isla-solver>=0.8.2->fuzzingbook) (4.13.2)\n",
            "Requirement already satisfied: datrie>=0.8.2 in /usr/local/lib/python3.11/dist-packages (from isla-solver>=0.8.2->fuzzingbook) (0.8.2)\n",
            "Requirement already satisfied: grammar-to-regex>=0.0.4 in /usr/local/lib/python3.11/dist-packages (from isla-solver>=0.8.2->fuzzingbook) (1.0.1)\n",
            "Requirement already satisfied: grammar-graph>=0.1.15 in /usr/local/lib/python3.11/dist-packages (from isla-solver>=0.8.2->fuzzingbook) (0.2.0)\n",
            "Requirement already satisfied: ijson>=3.1.4 in /usr/local/lib/python3.11/dist-packages (from isla-solver>=0.8.2->fuzzingbook) (3.3.0)\n",
            "Requirement already satisfied: packaging>=21.3 in /usr/local/lib/python3.11/dist-packages (from isla-solver>=0.8.2->fuzzingbook) (24.2)\n",
            "Requirement already satisfied: pathos>=0.2.9 in /usr/local/lib/python3.11/dist-packages (from isla-solver>=0.8.2->fuzzingbook) (0.3.3)\n",
            "Requirement already satisfied: proxyorderedset>=0.3.5 in /usr/local/lib/python3.11/dist-packages (from isla-solver>=0.8.2->fuzzingbook) (0.3.5)\n",
            "Requirement already satisfied: returns>=0.21.0 in /usr/local/lib/python3.11/dist-packages (from isla-solver>=0.8.2->fuzzingbook) (0.24.0)\n",
            "Requirement already satisfied: toml>=0.10.2 in /usr/local/lib/python3.11/dist-packages (from isla-solver>=0.8.2->fuzzingbook) (0.10.2)\n",
            "Requirement already satisfied: wheel>=0.37.1 in /usr/local/lib/python3.11/dist-packages (from isla-solver>=0.8.2->fuzzingbook) (0.45.1)\n",
            "Requirement already satisfied: contourpy>=1.0.1 in /usr/local/lib/python3.11/dist-packages (from matplotlib>=3.3.2->fuzzingbook) (1.3.1)\n",
            "Requirement already satisfied: cycler>=0.10 in /usr/local/lib/python3.11/dist-packages (from matplotlib>=3.3.2->fuzzingbook) (0.12.1)\n",
            "Requirement already satisfied: fonttools>=4.22.0 in /usr/local/lib/python3.11/dist-packages (from matplotlib>=3.3.2->fuzzingbook) (4.56.0)\n",
            "Requirement already satisfied: kiwisolver>=1.3.1 in /usr/local/lib/python3.11/dist-packages (from matplotlib>=3.3.2->fuzzingbook) (1.4.8)\n",
            "Requirement already satisfied: pillow>=8 in /usr/local/lib/python3.11/dist-packages (from matplotlib>=3.3.2->fuzzingbook) (11.1.0)\n",
            "Requirement already satisfied: python-dateutil>=2.7 in /usr/local/lib/python3.11/dist-packages (from matplotlib>=3.3.2->fuzzingbook) (2.8.2)\n",
            "Requirement already satisfied: dill>=0.3.9 in /usr/local/lib/python3.11/dist-packages (from multiprocess>=0.70.12.2->fuzzingbook) (0.3.9)\n",
            "Requirement already satisfied: bleach!=5.0.0 in /usr/local/lib/python3.11/dist-packages (from bleach[css]!=5.0.0->nbconvert>=6.0.7->fuzzingbook) (6.2.0)\n",
            "Requirement already satisfied: defusedxml in /usr/local/lib/python3.11/dist-packages (from nbconvert>=6.0.7->fuzzingbook) (0.7.1)\n",
            "Requirement already satisfied: jinja2>=3.0 in /usr/local/lib/python3.11/dist-packages (from nbconvert>=6.0.7->fuzzingbook) (3.1.6)\n",
            "Requirement already satisfied: jupyter-core>=4.7 in /usr/local/lib/python3.11/dist-packages (from nbconvert>=6.0.7->fuzzingbook) (5.7.2)\n",
            "Requirement already satisfied: jupyterlab-pygments in /usr/local/lib/python3.11/dist-packages (from nbconvert>=6.0.7->fuzzingbook) (0.3.0)\n",
            "Requirement already satisfied: markupsafe>=2.0 in /usr/local/lib/python3.11/dist-packages (from nbconvert>=6.0.7->fuzzingbook) (3.0.2)\n",
            "Requirement already satisfied: mistune<4,>=2.0.3 in /usr/local/lib/python3.11/dist-packages (from nbconvert>=6.0.7->fuzzingbook) (3.1.2)\n",
            "Requirement already satisfied: nbclient>=0.5.0 in /usr/local/lib/python3.11/dist-packages (from nbconvert>=6.0.7->fuzzingbook) (0.10.2)\n",
            "Requirement already satisfied: pandocfilters>=1.4.1 in /usr/local/lib/python3.11/dist-packages (from nbconvert>=6.0.7->fuzzingbook) (1.5.1)\n",
            "Requirement already satisfied: fastjsonschema>=2.15 in /usr/local/lib/python3.11/dist-packages (from nbformat>=5.0.8->fuzzingbook) (2.21.1)\n",
            "Requirement already satisfied: jsonschema>=2.6 in /usr/local/lib/python3.11/dist-packages (from nbformat>=5.0.8->fuzzingbook) (4.23.0)\n",
            "Requirement already satisfied: pandoc-attributes in /usr/local/lib/python3.11/dist-packages (from notedown>=1.5.1->fuzzingbook) (0.1.7)\n",
            "Requirement already satisfied: six in /usr/local/lib/python3.11/dist-packages (from notedown>=1.5.1->fuzzingbook) (1.17.0)\n",
            "Requirement already satisfied: pytz>=2020.1 in /usr/local/lib/python3.11/dist-packages (from pandas>=1.3.3->fuzzingbook) (2025.1)\n",
            "Requirement already satisfied: tzdata>=2022.7 in /usr/local/lib/python3.11/dist-packages (from pandas>=1.3.3->fuzzingbook) (2025.1)\n",
            "Requirement already satisfied: gitpython in /usr/local/lib/python3.11/dist-packages (from pydriller>=2.0->fuzzingbook) (3.1.44)\n",
            "Requirement already satisfied: types-pytz in /usr/local/lib/python3.11/dist-packages (from pydriller>=2.0->fuzzingbook) (2025.1.0.20250204)\n",
            "Requirement already satisfied: lizard in /usr/local/lib/python3.11/dist-packages (from pydriller>=2.0->fuzzingbook) (1.17.20)\n",
            "Requirement already satisfied: charset-normalizer<4,>=2 in /usr/local/lib/python3.11/dist-packages (from requests>=2.26.0->fuzzingbook) (3.4.1)\n",
            "Requirement already satisfied: idna<4,>=2.5 in /usr/local/lib/python3.11/dist-packages (from requests>=2.26.0->fuzzingbook) (3.10)\n",
            "Requirement already satisfied: urllib3<3,>=1.21.1 in /usr/local/lib/python3.11/dist-packages (from requests>=2.26.0->fuzzingbook) (2.3.0)\n",
            "Requirement already satisfied: certifi>=2017.4.17 in /usr/local/lib/python3.11/dist-packages (from requests>=2.26.0->fuzzingbook) (2025.1.31)\n",
            "Requirement already satisfied: joblib>=1.2.0 in /usr/local/lib/python3.11/dist-packages (from scikit-learn>=0.23.2->fuzzingbook) (1.4.2)\n",
            "Requirement already satisfied: threadpoolctl>=3.1.0 in /usr/local/lib/python3.11/dist-packages (from scikit-learn>=0.23.2->fuzzingbook) (3.5.0)\n",
            "Requirement already satisfied: trio~=0.17 in /usr/local/lib/python3.11/dist-packages (from selenium>=3.141.0->fuzzingbook) (0.29.0)\n",
            "Requirement already satisfied: trio-websocket~=0.9 in /usr/local/lib/python3.11/dist-packages (from selenium>=3.141.0->fuzzingbook) (0.12.2)\n",
            "Requirement already satisfied: websocket-client~=1.8 in /usr/local/lib/python3.11/dist-packages (from selenium>=3.141.0->fuzzingbook) (1.8.0)\n",
            "Requirement already satisfied: reportlab in /usr/local/lib/python3.11/dist-packages (from svglib>=1.1.0->fuzzingbook) (4.3.1)\n",
            "Requirement already satisfied: tinycss2>=0.6.0 in /usr/local/lib/python3.11/dist-packages (from svglib>=1.1.0->fuzzingbook) (1.4.0)\n",
            "Requirement already satisfied: cssselect2>=0.2.0 in /usr/local/lib/python3.11/dist-packages (from svglib>=1.1.0->fuzzingbook) (0.8.0)\n",
            "Requirement already satisfied: platformdirs>=3.5.1 in /usr/local/lib/python3.11/dist-packages (from yapf>=0.31.0->fuzzingbook) (4.3.6)\n",
            "Requirement already satisfied: webencodings in /usr/local/lib/python3.11/dist-packages (from bleach!=5.0.0->bleach[css]!=5.0.0->nbconvert>=6.0.7->fuzzingbook) (0.5.1)\n",
            "Requirement already satisfied: fibheap>=0.2.1 in /usr/local/lib/python3.11/dist-packages (from grammar-graph>=0.1.15->isla-solver>=0.8.2->fuzzingbook) (0.2.1)\n",
            "Requirement already satisfied: pydot>=1.4.2 in /usr/local/lib/python3.11/dist-packages (from grammar-to-regex>=0.0.4->isla-solver>=0.8.2->fuzzingbook) (1.4.2)\n",
            "Requirement already satisfied: parso<0.9.0,>=0.8.4 in /usr/local/lib/python3.11/dist-packages (from jedi>=0.16->ipython>=7.16.1->fuzzingbook) (0.8.4)\n",
            "Requirement already satisfied: attrs>=22.2.0 in /usr/local/lib/python3.11/dist-packages (from jsonschema>=2.6->nbformat>=5.0.8->fuzzingbook) (25.1.0)\n",
            "Requirement already satisfied: jsonschema-specifications>=2023.03.6 in /usr/local/lib/python3.11/dist-packages (from jsonschema>=2.6->nbformat>=5.0.8->fuzzingbook) (2024.10.1)\n",
            "Requirement already satisfied: referencing>=0.28.4 in /usr/local/lib/python3.11/dist-packages (from jsonschema>=2.6->nbformat>=5.0.8->fuzzingbook) (0.36.2)\n",
            "Requirement already satisfied: rpds-py>=0.7.1 in /usr/local/lib/python3.11/dist-packages (from jsonschema>=2.6->nbformat>=5.0.8->fuzzingbook) (0.23.1)\n",
            "Requirement already satisfied: jupyter-client>=6.1.12 in /usr/local/lib/python3.11/dist-packages (from nbclient>=0.5.0->nbconvert>=6.0.7->fuzzingbook) (6.1.12)\n",
            "Requirement already satisfied: ppft>=1.7.6.9 in /usr/local/lib/python3.11/dist-packages (from pathos>=0.2.9->isla-solver>=0.8.2->fuzzingbook) (1.7.6.9)\n",
            "Requirement already satisfied: pox>=0.3.5 in /usr/local/lib/python3.11/dist-packages (from pathos>=0.2.9->isla-solver>=0.8.2->fuzzingbook) (0.3.5)\n",
            "Requirement already satisfied: ptyprocess>=0.5 in /usr/local/lib/python3.11/dist-packages (from pexpect>4.3->ipython>=7.16.1->fuzzingbook) (0.7.0)\n",
            "Requirement already satisfied: wcwidth in /usr/local/lib/python3.11/dist-packages (from prompt-toolkit!=3.0.0,!=3.0.1,<3.1.0,>=2.0.0->ipython>=7.16.1->fuzzingbook) (0.2.13)\n",
            "Requirement already satisfied: frozendict>=2.3.2 in /usr/local/lib/python3.11/dist-packages (from proxyorderedset>=0.3.5->isla-solver>=0.8.2->fuzzingbook) (2.4.6)\n",
            "Requirement already satisfied: sortedcontainers in /usr/local/lib/python3.11/dist-packages (from trio~=0.17->selenium>=3.141.0->fuzzingbook) (2.4.0)\n",
            "Requirement already satisfied: outcome in /usr/local/lib/python3.11/dist-packages (from trio~=0.17->selenium>=3.141.0->fuzzingbook) (1.3.0.post0)\n",
            "Requirement already satisfied: sniffio>=1.3.0 in /usr/local/lib/python3.11/dist-packages (from trio~=0.17->selenium>=3.141.0->fuzzingbook) (1.3.1)\n",
            "Requirement already satisfied: wsproto>=0.14 in /usr/local/lib/python3.11/dist-packages (from trio-websocket~=0.9->selenium>=3.141.0->fuzzingbook) (1.2.0)\n",
            "Requirement already satisfied: pysocks!=1.5.7,<2.0,>=1.5.6 in /usr/local/lib/python3.11/dist-packages (from urllib3[socks]<3,>=1.26->selenium>=3.141.0->fuzzingbook) (1.7.1)\n",
            "Requirement already satisfied: gitdb<5,>=4.0.1 in /usr/local/lib/python3.11/dist-packages (from gitpython->pydriller>=2.0->fuzzingbook) (4.0.12)\n",
            "Requirement already satisfied: pathspec in /usr/local/lib/python3.11/dist-packages (from lizard->pydriller>=2.0->fuzzingbook) (0.12.1)\n",
            "Requirement already satisfied: tenacity>=6.2.0 in /usr/local/lib/python3.11/dist-packages (from plotly->easyplotly>=0.1.3->fuzzingbook) (9.0.0)\n",
            "Requirement already satisfied: chardet in /usr/local/lib/python3.11/dist-packages (from reportlab->svglib>=1.1.0->fuzzingbook) (5.2.0)\n",
            "Requirement already satisfied: smmap<6,>=3.0.1 in /usr/local/lib/python3.11/dist-packages (from gitdb<5,>=4.0.1->gitpython->pydriller>=2.0->fuzzingbook) (5.0.2)\n",
            "Requirement already satisfied: pyzmq>=13 in /usr/local/lib/python3.11/dist-packages (from jupyter-client>=6.1.12->nbclient>=0.5.0->nbconvert>=6.0.7->fuzzingbook) (24.0.1)\n",
            "Requirement already satisfied: tornado>=4.1 in /usr/local/lib/python3.11/dist-packages (from jupyter-client>=6.1.12->nbclient>=0.5.0->nbconvert>=6.0.7->fuzzingbook) (6.4.2)\n",
            "Requirement already satisfied: h11<1,>=0.9.0 in /usr/local/lib/python3.11/dist-packages (from wsproto>=0.14->trio-websocket~=0.9->selenium>=3.141.0->fuzzingbook) (0.14.0)\n"
          ]
        }
      ],
      "source": [
        "import sys\n",
        "!{sys.executable} -m pip install fuzzingbook"
      ]
    },
    {
      "cell_type": "markdown",
      "metadata": {
        "id": "Ihc_bM4UfI9B"
      },
      "source": [
        "# A Simple Random Fuzzer"
      ]
    },
    {
      "cell_type": "markdown",
      "metadata": {
        "id": "K74A8LrIfI9B"
      },
      "source": [
        "Now, let's use the library provided in the fuzzingbook to get a very simple fuzzer: a random fuzzer."
      ]
    },
    {
      "cell_type": "code",
      "execution_count": 5,
      "metadata": {
        "colab": {
          "base_uri": "https://localhost:8080/",
          "height": 36
        },
        "id": "HMIYHLl8fI9B",
        "outputId": "15b63f03-0712-49fd-cd95-dc755c3dbde0"
      },
      "outputs": [
        {
          "output_type": "execute_result",
          "data": {
            "text/plain": [
              "'8#9%/=#+<$- 2-=(4+9.)7!>6$+:538$<> >8\";2)8/#89$9./966*;!807,9)1&+\"11$0/9!(*1)8*?'"
            ],
            "application/vnd.google.colaboratory.intrinsic+json": {
              "type": "string"
            }
          },
          "metadata": {},
          "execution_count": 5
        }
      ],
      "source": [
        "from fuzzingbook.Fuzzer import RandomFuzzer\n",
        "random_fuzzer = RandomFuzzer()\n",
        "random_fuzzer.fuzz()"
      ]
    },
    {
      "cell_type": "markdown",
      "metadata": {
        "id": "tfigTf9TfI9B"
      },
      "source": [
        "The output is a randomly generated string, which can be used as an input for other programs."
      ]
    },
    {
      "cell_type": "markdown",
      "metadata": {
        "id": "cfhBt68JfI9B"
      },
      "source": [
        "We can also look at the implementation of RandomFuzzer:"
      ]
    },
    {
      "cell_type": "code",
      "source": [
        "import fuzzingbook as fb\n",
        "print(fb.__file__)"
      ],
      "metadata": {
        "colab": {
          "base_uri": "https://localhost:8080/"
        },
        "id": "RF4Yr4hSpkEV",
        "outputId": "5ab3036a-99f2-4342-8d51-57c67c0164c3"
      },
      "execution_count": 7,
      "outputs": [
        {
          "output_type": "stream",
          "name": "stdout",
          "text": [
            "/usr/local/lib/python3.11/dist-packages/fuzzingbook/__init__.py\n"
          ]
        }
      ]
    },
    {
      "cell_type": "code",
      "execution_count": 8,
      "metadata": {
        "colab": {
          "base_uri": "https://localhost:8080/"
        },
        "id": "wOz1v7KDfI9B",
        "outputId": "5cba79ae-188e-4697-b3e0-f099179040ef"
      },
      "outputs": [
        {
          "output_type": "stream",
          "name": "stdout",
          "text": [
            "class\u001b[37m \u001b[39;49;00mRandomFuzzer(Fuzzer):\u001b[37m\u001b[39;49;00m\n",
            "\u001b[37m    \u001b[39;49;00m\u001b[33m\"\u001b[39;49;00m\u001b[33m\"\"\u001b[39;49;00m\u001b[33mProduce random inputs.\u001b[39;49;00m\u001b[33m\"\"\u001b[39;49;00m\u001b[33m\"\u001b[39;49;00m\u001b[37m\u001b[39;49;00m\n",
            "\u001b[37m\u001b[39;49;00m\n",
            "\u001b[37m    \u001b[39;49;00mdef\u001b[37m \u001b[39;49;00m__init__(self,\u001b[37m \u001b[39;49;00mmin_length:\u001b[37m \u001b[39;49;00m\u001b[36mint\u001b[39;49;00m\u001b[37m \u001b[39;49;00m=\u001b[37m \u001b[39;49;00m\u001b[34m10\u001b[39;49;00m,\u001b[37m \u001b[39;49;00mmax_length:\u001b[37m \u001b[39;49;00m\u001b[36mint\u001b[39;49;00m\u001b[37m \u001b[39;49;00m=\u001b[37m \u001b[39;49;00m\u001b[34m100\u001b[39;49;00m,\u001b[37m\u001b[39;49;00m\n",
            "\u001b[37m                 \u001b[39;49;00mchar_start:\u001b[37m \u001b[39;49;00m\u001b[36mint\u001b[39;49;00m\u001b[37m \u001b[39;49;00m=\u001b[37m \u001b[39;49;00m\u001b[34m32\u001b[39;49;00m,\u001b[37m \u001b[39;49;00mchar_range:\u001b[37m \u001b[39;49;00m\u001b[36mint\u001b[39;49;00m\u001b[37m \u001b[39;49;00m=\u001b[37m \u001b[39;49;00m\u001b[34m32\u001b[39;49;00m)\u001b[37m \u001b[39;49;00m->\u001b[37m \u001b[39;49;00m\u001b[34mNone\u001b[39;49;00m:\u001b[37m\u001b[39;49;00m\n",
            "\u001b[37m        \u001b[39;49;00m\u001b[33m\"\u001b[39;49;00m\u001b[33m\"\"\u001b[39;49;00m\u001b[33mProduce strings of `min_length` to `max_length` characters\u001b[39;49;00m\n",
            "\u001b[33m           in the range [`char_start`, `char_start` + `char_range`)\u001b[39;49;00m\u001b[33m\"\"\u001b[39;49;00m\u001b[33m\"\u001b[39;49;00m\u001b[37m\u001b[39;49;00m\n",
            "\u001b[37m        \u001b[39;49;00mself.min_length\u001b[37m \u001b[39;49;00m=\u001b[37m \u001b[39;49;00mmin_length\u001b[37m\u001b[39;49;00m\n",
            "\u001b[37m        \u001b[39;49;00mself.max_length\u001b[37m \u001b[39;49;00m=\u001b[37m \u001b[39;49;00mmax_length\u001b[37m\u001b[39;49;00m\n",
            "\u001b[37m        \u001b[39;49;00mself.char_start\u001b[37m \u001b[39;49;00m=\u001b[37m \u001b[39;49;00mchar_start\u001b[37m\u001b[39;49;00m\n",
            "\u001b[37m        \u001b[39;49;00mself.char_range\u001b[37m \u001b[39;49;00m=\u001b[37m \u001b[39;49;00mchar_range\u001b[37m\u001b[39;49;00m\n",
            "\u001b[37m\u001b[39;49;00m\n",
            "\u001b[37m    \u001b[39;49;00mdef\u001b[37m \u001b[39;49;00mfuzz(self)\u001b[37m \u001b[39;49;00m->\u001b[37m \u001b[39;49;00mstr:\u001b[37m\u001b[39;49;00m\n",
            "\u001b[37m        \u001b[39;49;00mstring_length\u001b[37m \u001b[39;49;00m=\u001b[37m \u001b[39;49;00m\u001b[34mrandom\u001b[39;49;00m.randrange(self.min_length,\u001b[37m \u001b[39;49;00mself.max_length\u001b[37m \u001b[39;49;00m+\u001b[37m \u001b[39;49;00m\u001b[34m1\u001b[39;49;00m)\u001b[37m\u001b[39;49;00m\n",
            "\u001b[37m        \u001b[39;49;00m\u001b[34mout\u001b[39;49;00m\u001b[37m \u001b[39;49;00m=\u001b[37m \u001b[39;49;00m\u001b[33m\"\u001b[39;49;00m\u001b[33m\"\u001b[39;49;00m\u001b[37m\u001b[39;49;00m\n",
            "\u001b[37m        \u001b[39;49;00m\u001b[34mfor\u001b[39;49;00m\u001b[37m \u001b[39;49;00mi\u001b[37m \u001b[39;49;00m\u001b[34min\u001b[39;49;00m\u001b[37m \u001b[39;49;00m\u001b[34mrange\u001b[39;49;00m(\u001b[34m0\u001b[39;49;00m,\u001b[37m \u001b[39;49;00mstring_length):\u001b[37m\u001b[39;49;00m\n",
            "\u001b[37m            \u001b[39;49;00m\u001b[34mout\u001b[39;49;00m\u001b[37m \u001b[39;49;00m+=\u001b[37m \u001b[39;49;00mchr(\u001b[34mrandom\u001b[39;49;00m.randrange(self.char_start,\u001b[37m\u001b[39;49;00m\n",
            "\u001b[37m                                        \u001b[39;49;00mself.char_start\u001b[37m \u001b[39;49;00m+\u001b[37m \u001b[39;49;00mself.char_range))\u001b[37m\u001b[39;49;00m\n",
            "\u001b[37m        \u001b[39;49;00m\u001b[34mreturn\u001b[39;49;00m\u001b[37m \u001b[39;49;00m\u001b[34mout\u001b[39;49;00m\u001b[37m\u001b[39;49;00m"
          ]
        }
      ],
      "source": [
        "import inspect\n",
        "from fuzzingbook.bookutils import print_content\n",
        "\n",
        "print_content(inspect.getsource(RandomFuzzer))"
      ]
    },
    {
      "cell_type": "markdown",
      "metadata": {
        "id": "DHoBeiP5fI9C"
      },
      "source": [
        "The fuzzer simply generates a random string with a default length between 10 and 100.\n",
        "\n",
        "## Example: Finding Buffer Overflow\n",
        "Let's see how this fuzzer can be useful through a simple simulated example. In C, we often need to specify the length of the characters that we need to read. If the actual length is longer than the specified length, it can cause buffer overflow. (The example is taken from the [fuzzing book](https://www.fuzzingbook.org))\n",
        "\n",
        "```c\n",
        "char weekday[10]; // 9 characters + trailing '\\0' terminator\n",
        "strcpy (weekday, input);\n",
        "```\n",
        "\n",
        "We can simulate this problem in Python as:"
      ]
    },
    {
      "cell_type": "code",
      "execution_count": 9,
      "metadata": {
        "id": "l7oToOLSfI9C"
      },
      "outputs": [],
      "source": [
        "def crash_if_too_long(s):\n",
        "    if len(s) > 9: # 9 characters\n",
        "        raise ValueError"
      ]
    },
    {
      "cell_type": "markdown",
      "metadata": {
        "id": "Pna2HLjafI9C"
      },
      "source": [
        "Now, let's generate tests for this program."
      ]
    },
    {
      "cell_type": "code",
      "execution_count": 10,
      "metadata": {
        "colab": {
          "base_uri": "https://localhost:8080/"
        },
        "id": "9AtvA8LCfI9C",
        "outputId": "612b4457-efe5-4be2-8197-ae0132c8ec6c"
      },
      "outputs": [
        {
          "output_type": "stream",
          "name": "stdout",
          "text": [
            "trial: 0 with input: 7?:40)!.'.<0*%+5:$?#2%2:*1,3+</'4<'/<.%*/&27.2\"14=>>'*'4!$>?>,92<)2115,!</#:?\"8217<(,\n"
          ]
        },
        {
          "output_type": "stream",
          "name": "stderr",
          "text": [
            "Traceback (most recent call last):\n",
            "  File \"<ipython-input-10-9e514079d094>\", line 8, in <cell line: 0>\n",
            "    crash_if_too_long(inp)\n",
            "  File \"<ipython-input-9-82d8cf6c68ac>\", line 3, in crash_if_too_long\n",
            "    raise ValueError\n",
            "ValueError\n"
          ]
        }
      ],
      "source": [
        "import traceback # to get the stack trace\n",
        "\n",
        "trials = 100\n",
        "for i in range(0, trials):\n",
        "    inp = random_fuzzer.fuzz()\n",
        "    print (\"trial: %s with input: %s\" % (i, inp))\n",
        "    try:\n",
        "        crash_if_too_long(inp)\n",
        "    except ValueError:\n",
        "        traceback.print_exc()\n",
        "        break"
      ]
    },
    {
      "cell_type": "markdown",
      "metadata": {
        "id": "e0QpmUrffI9C"
      },
      "source": [
        "As we can see, our very simple fuzzer is able to trigger the (simulated) bug. These kinds of bug may lead to security issues. Many companes nowadays use fuzzing to help them detect bugs.\n",
        "\n",
        "For example, Google uses fuzzing and open sourced their fuzzing tool: [OSS Fuzz](https://github.com/google/oss-fuzz). As mentioned by Google, so far, OSS Fuzz has detected more than 14,000 bugs in 200 open source systems.\n",
        "\n",
        "Other popular fuzzing tools include: [AFL](https://github.com/google/AFL), [LibFuzzer](https://llvm.org/docs/LibFuzzer.html), and many more. In particular, AFL is one of the most popular and most extended fuzzer. Many research papers are built upon AFL."
      ]
    },
    {
      "cell_type": "markdown",
      "metadata": {
        "id": "li_gC1JxfI9C"
      },
      "source": [
        "## Testing a Simple URL Parser"
      ]
    },
    {
      "cell_type": "markdown",
      "metadata": {
        "id": "I5GhJ8u3fI9C"
      },
      "source": [
        "Let's use our simple fuzzer to test a simple URL parser in Python."
      ]
    },
    {
      "cell_type": "code",
      "execution_count": 45,
      "metadata": {
        "id": "dUktdEoTfI9C"
      },
      "outputs": [],
      "source": [
        "from urllib.parse import urlparse\n",
        "\n",
        "def http_program(url):\n",
        "    supported_schemes = [\"http\", \"https\"]\n",
        "    result = urlparse(url)\n",
        "    if result.scheme not in supported_schemes:\n",
        "        raise ValueError(\"Scheme must be one of \" + repr(supported_schemes))\n",
        "    if result.netloc == '':\n",
        "        raise ValueError(\"Host must be non-empty\")\n",
        "\n",
        "    # Do something with the URL\n",
        "    return True"
      ]
    },
    {
      "cell_type": "markdown",
      "metadata": {
        "id": "Biiwz11wfI9C"
      },
      "source": [
        "For now, we assume that our goal is to test if we can generate both valid and invliad inputs for the program. We can use the following code:"
      ]
    },
    {
      "cell_type": "code",
      "execution_count": 46,
      "metadata": {
        "id": "FoWMrBKSfI9C"
      },
      "outputs": [],
      "source": [
        "def is_valid_url(url):\n",
        "    try:\n",
        "        result = http_program(url)\n",
        "        return True\n",
        "    except ValueError:\n",
        "        return False"
      ]
    },
    {
      "cell_type": "markdown",
      "metadata": {
        "id": "0BDBsTmkfI9D"
      },
      "source": [
        "Then, we use our random fuzzer to test the program."
      ]
    },
    {
      "cell_type": "code",
      "execution_count": 13,
      "metadata": {
        "colab": {
          "base_uri": "https://localhost:8080/"
        },
        "id": "HtBooevNfI9D",
        "outputId": "492a7d0c-8711-48f0-a056-c7eacd499081"
      },
      "outputs": [
        {
          "output_type": "stream",
          "name": "stdout",
          "text": [
            "input is  0:.*8\"'60/%(:<7:2%6\"':)+?\n",
            "input is 478*)( 99?%(.(//6+52.',<(33=;)5$55>>-&0.%67'9*8>5\"$9,:39#6=54\n",
            "input is 2-#5.)'<%7;\n",
            "input is ?:?\"<(9=.1;8%8'04#:7;-4)4\"/-/>2662','#-&0=23\";&9;:#(*8563::?/(09\n",
            "input is 4\";,< &6,<2*<(\":< )##/- .1=6##& %=!3$&=(5 ,+*2(>'0,#.(9--,\"19!+&??=:5#&<>+%%*;=/8.:8\n",
            "input is +\"/-?##1 #*#\"-.=9\"8 001,/2?/0%#5</<416:460(1/ &&,\";\n",
            "input is ;;?'5-%)0.>\"$?*;'9/!<&%<.4+=!#5&,\n",
            "input is 3.9';*\"1%(6). >?%>32+6> 68<,</=(.0<=\"0+6?;,49;03;&!$,%\"\n",
            "input is %;!?'8)* .7>;445 \" 0'5%/:&5?$+9/%)>2/0&287!>/*.?5\n",
            "input is 75.,;$=?#'+>1\"7!3/78%?#&578+<5<7-7:+$!<(.9'#;+*8:1<!;9(3#)&$1\n",
            "input is 6$77=)6\"7\"0!39+7/:>3'?&,=6\"9;1)'73,3\n",
            "input is 7;237\"'':/>=>)$\"-5()(?%- <;, ?6=5*6;00.'%$'?>%)/%<%)&-,\n",
            "input is >=#217* -0\"1-->'371$4.!10+0;7(\"\n",
            "input is 5*0,!<35:#;&)<!1,%71#64*--1/<<79:2#<!6$,/9$'#)0<.09)(#\"5&0$1=69.%<*\"'0''0:94% 3=&4001\n",
            "input is 971+&,! #,..0+</ 0;0(*+?=%!* 3/2-2&%3><?:>8&<&5*8=<#-2=\"\"+&/;%5:,>;7 1 $#)0=2#=;:* 2(33.&(\n",
            "input is 7),!--9'00,/+:9?#(/))'705<'1.1:<40\"+\n",
            "input is 8,\"=';;+3#'&(;.='/,'>$/<7? .*4,:;,4337( >%:(=4$65?(>!?'5+=$31\n",
            "input is 2$0\"-7 07.4'\";>)8. +<&+4%5!9)<, ;':;(=35=39=&,#/!4$8%?;2*8,;),>\"42\n",
            "input is ,5=?\"(+-$,$9#!6(':\"43&!03+?%07; (*\"..5960+94'9859&3':0& $,2\"%#8;:%3 ;:)>?($>&%<.>/1&4;9%?\n",
            "input is 5:?=08\"8/;>)22;3<+(!41<+?32 ,92!$;:%%-+3.?#</\",' =!*?7<#')($?$*7)&:%%( 23:-95/%3;$57\"2.4)((.,#*+\n"
          ]
        },
        {
          "output_type": "execute_result",
          "data": {
            "text/plain": [
              "0.0"
            ]
          },
          "metadata": {},
          "execution_count": 13
        }
      ],
      "source": [
        "random_fuzzer = RandomFuzzer()\n",
        "\n",
        "valid_inputs = set()\n",
        "trials = 20\n",
        "\n",
        "for i in range(trials):\n",
        "    inp = random_fuzzer.fuzz()\n",
        "    print (\"input is \" + inp)\n",
        "    if is_valid_url(inp):\n",
        "        valid_inputs.add(inp)\n",
        "\n",
        "len(valid_inputs) / trials"
      ]
    },
    {
      "cell_type": "markdown",
      "metadata": {
        "id": "a7gzUYGVfI9D"
      },
      "source": [
        "As expected, we cannot generate any valid input to test the program. How can we generate smarter inputs?"
      ]
    },
    {
      "cell_type": "markdown",
      "metadata": {
        "id": "zKywJxcHfI9D"
      },
      "source": [
        "# Mutation Fuzzer"
      ]
    },
    {
      "cell_type": "markdown",
      "metadata": {
        "id": "kURlEi_zfI9D"
      },
      "source": [
        "Randomly generating inputs may not sound so smart. For different programs, we might want a more customized way to automatically generate inputs.\n",
        "\n",
        "For example, if we want to test a calculator program, we might not want to generate so many textual inputs. These textual inputs may only increase the test generation time with no additional code coverage (more on this later)."
      ]
    },
    {
      "cell_type": "markdown",
      "metadata": {
        "id": "NLLjC3OYfI9D"
      },
      "source": [
        "Now, let's look at some simple mutation operators."
      ]
    },
    {
      "cell_type": "code",
      "execution_count": 14,
      "metadata": {
        "colab": {
          "base_uri": "https://localhost:8080/",
          "height": 36
        },
        "id": "rSG0BRzHfI9D",
        "outputId": "b562aac6-835d-42e3-f347-624c79e67d06"
      },
      "outputs": [
        {
          "output_type": "execute_result",
          "data": {
            "text/plain": [
              "'This isan example'"
            ],
            "application/vnd.google.colaboratory.intrinsic+json": {
              "type": "string"
            }
          },
          "metadata": {},
          "execution_count": 14
        }
      ],
      "source": [
        "import random\n",
        "\n",
        "# the code mutates the input by randomly deleting a character\n",
        "def delete_random_char(s):\n",
        "    if s == \"\":\n",
        "        return s\n",
        "    pos = random.randint(0, len(s) - 1)\n",
        "    return s[:pos] + s[pos+1:]\n",
        "\n",
        "inp = \"This is an example\"\n",
        "delete_random_char(inp)"
      ]
    },
    {
      "cell_type": "code",
      "execution_count": 15,
      "metadata": {
        "colab": {
          "base_uri": "https://localhost:8080/",
          "height": 36
        },
        "id": "fiIIWwcZfI9D",
        "outputId": "4abbea2a-9b09-44e9-92fd-56b7afcdd90b"
      },
      "outputs": [
        {
          "output_type": "execute_result",
          "data": {
            "text/plain": [
              "'This jis an example'"
            ],
            "application/vnd.google.colaboratory.intrinsic+json": {
              "type": "string"
            }
          },
          "metadata": {},
          "execution_count": 15
        }
      ],
      "source": [
        "# the code mutates the input by randomly adding a character\n",
        "def add_random_char(s):\n",
        "    pos = random.randint(0, len(s) - 1)\n",
        "    random_character = chr(random.randrange(32, 127))\n",
        "    return s[:pos] + random_character + s[pos:]\n",
        "\n",
        "inp = \"This is an example\"\n",
        "add_random_char(inp)"
      ]
    },
    {
      "cell_type": "code",
      "execution_count": 16,
      "metadata": {
        "colab": {
          "base_uri": "https://localhost:8080/",
          "height": 36
        },
        "id": "g3oZdQ0JfI9D",
        "outputId": "afef46f9-3755-414a-b0dc-5535d8fc3fbd"
      },
      "outputs": [
        {
          "output_type": "execute_result",
          "data": {
            "text/plain": [
              "'This is an exam0le'"
            ],
            "application/vnd.google.colaboratory.intrinsic+json": {
              "type": "string"
            }
          },
          "metadata": {},
          "execution_count": 16
        }
      ],
      "source": [
        "# the code mutates the input by randomly flipping a character\n",
        "def flip_random_character(s):\n",
        "    \"\"\"Returns s with a random bit flipped in a random position\"\"\"\n",
        "    if s == \"\":\n",
        "        return s\n",
        "\n",
        "    pos = random.randint(0, len(s) - 1)\n",
        "    c = s[pos]\n",
        "    bit = 1 << random.randint(0, 6)\n",
        "    new_c = chr(ord(c) ^ bit)\n",
        "    # print(\"Flipping\", bit, \"in\", repr(c) + \", giving\", repr(new_c))\n",
        "    return s[:pos] + new_c + s[pos + 1:]\n",
        "\n",
        "inp = \"This is an example\"\n",
        "flip_random_character(inp)"
      ]
    },
    {
      "cell_type": "markdown",
      "metadata": {
        "id": "Exg2fEKEfI9D"
      },
      "source": [
        "We can also apply multiple mutators to an input:"
      ]
    },
    {
      "cell_type": "code",
      "execution_count": 17,
      "metadata": {
        "colab": {
          "base_uri": "https://localhost:8080/"
        },
        "id": "ESrzOJ1NfI9E",
        "outputId": "bbd548e0-3b47-4a38-b6f4-d9dca0bc81a4"
      },
      "outputs": [
        {
          "output_type": "stream",
          "name": "stdout",
          "text": [
            "hiSis !nexa'%>pe\n"
          ]
        }
      ],
      "source": [
        "inp = \"This is an example\"\n",
        "\n",
        "mutators = [delete_random_char, add_random_char, flip_random_character]\n",
        "\n",
        "for i in range(0, 10):\n",
        "    mutator = mutators[random.randint(0, 2)]\n",
        "    inp = mutator(inp)\n",
        "\n",
        "# after 10 random mutations\n",
        "print (inp)"
      ]
    },
    {
      "cell_type": "markdown",
      "metadata": {
        "id": "VvoBtDtFfI9E"
      },
      "source": [
        "We can also use similar code to fuzz URLs for testing web servers or URL parsers (remember the example that we discussed in the previous section).\n",
        "\n",
        "Now, instead of using the code above, we can call the API from the FuzzingBook (the behaviour is the same):"
      ]
    },
    {
      "cell_type": "code",
      "execution_count": 18,
      "metadata": {
        "colab": {
          "base_uri": "https://localhost:8080/"
        },
        "id": "YdaRvvMzfI9E",
        "outputId": "088b7b48-61e2-412a-ad49-6637582d91d1"
      },
      "outputs": [
        {
          "output_type": "execute_result",
          "data": {
            "text/plain": [
              "['https://wwd.concordia.ca/',\n",
              " 'http}s:/www.boncordia.ca/',\n",
              " 'htUtps:h//sww.concodia.ca/',\n",
              " 'hMtp3:/5/www.conordBiA.ca/',\n",
              " 'https:/ww*coc~ordya.ca/T',\n",
              " 'htCtps//ww}s.concordOid.ca/',\n",
              " 'tts://vw.boncord&ia.cOa/D',\n",
              " 'htts//www.cncorda.ca/',\n",
              " \"hdps:E/+wwwconcordia.a'\",\n",
              " 'http3:p//wPw.conc.ordia.ca']"
            ]
          },
          "metadata": {},
          "execution_count": 18
        }
      ],
      "source": [
        "from fuzzingbook.MutationFuzzer import MutationFuzzer\n",
        "import random\n",
        "seed = \"https://www.concordia.ca/\"\n",
        "mutation_fuzzer = MutationFuzzer(seed=[\"https://www.concordia.ca/\"])\n",
        "mutation_fuzzer.fuzz()\n",
        "\n",
        "[mutation_fuzzer.fuzz() for i in range(10)]\n"
      ]
    },
    {
      "cell_type": "markdown",
      "metadata": {
        "id": "b2BV1yLVfI9E"
      },
      "source": [
        "These automatically generated inputs look better than those randomly generated ones. We can use inputs to test the URL parser program for unexpected behvaiour (e.g., exception handling or crashes) or even security issues.\n",
        "\n",
        "Note that for different problems, you might need to come up with different mutators. For example, if you are testing a calculator program, mutators for strings may not be very effective."
      ]
    },
    {
      "cell_type": "markdown",
      "metadata": {
        "id": "K3hQKSr1fI9E"
      },
      "source": [
        "Let's use our new fuzzer to test our URL parser."
      ]
    },
    {
      "cell_type": "code",
      "execution_count": 19,
      "metadata": {
        "colab": {
          "base_uri": "https://localhost:8080/"
        },
        "id": "N6j81H8_fI9E",
        "outputId": "bda52dd3-223d-471e-c92d-cb8506767c33"
      },
      "outputs": [
        {
          "output_type": "stream",
          "name": "stdout",
          "text": [
            "input http://www.concordia.ca\n",
            "input http://www.concOrdia.%ca\n",
            "input http://ww.concordia.a\n",
            "input hd`tp://www.concordia.ca\n",
            "input h4tp:+/wwjg.concordia.ca\n",
            "input http{:\u000f/wwwS.cnckr#diaca\n",
            "input http:/.wwco6ncoRtia.ca\n",
            "input htp:Q//gW.concorda.c\n",
            "input 4tp://www.cn#ordka.ca\n",
            "input http://www.concordBa.a\n",
            "input http://wwSs.conqcordiaa.c\n",
            "input hLttp:+www.concuordi1.\n",
            "input httfLn://jw.Loncordia*ca\n",
            "input htp://www.concordUia.ca\n",
            "input uhp>|p://www.cnNcordia*ca\n",
            "input xttp://www.concora.ca\n",
            "input httMp|://www.ccrihdie.ca\n",
            "input http://www.onaordia.ca\n",
            "input (ttp//www.concordia.ca\n",
            "input httq+5:/ww.?cocornia.ca\n"
          ]
        },
        {
          "output_type": "execute_result",
          "data": {
            "text/plain": [
              "0.3"
            ]
          },
          "metadata": {},
          "execution_count": 19
        }
      ],
      "source": [
        "seed = \"http://www.concordia.ca\"\n",
        "mutation_fuzzer = MutationFuzzer([seed])\n",
        "\n",
        "valid_inputs = set()\n",
        "trials = 20\n",
        "\n",
        "for i in range(trials):\n",
        "    inp = mutation_fuzzer.fuzz()\n",
        "    print (\"input \" + inp)\n",
        "    if is_valid_url(inp):\n",
        "        valid_inputs.add(inp)\n",
        "\n",
        "len(valid_inputs) / trials"
      ]
    },
    {
      "cell_type": "markdown",
      "metadata": {
        "id": "qS8jjQq7fI9E"
      },
      "source": [
        "This is an improvement. We can now generate valid inputs to test the URL pareser!\n",
        "\n",
        "But is there any way that we can do better?"
      ]
    },
    {
      "cell_type": "markdown",
      "metadata": {
        "id": "38v9iT-NfI9E"
      },
      "source": [
        "# Using Coverage to Guide Fuzzing"
      ]
    },
    {
      "cell_type": "markdown",
      "metadata": {
        "id": "cbmCPEMHfI9I"
      },
      "source": [
        "What we have discussed so far belongs to the family of blackbox fuzzing. Namely, we do not have any information of the source code, nor how the code is executed. We can improve our fuzzer by integrating the coverage information."
      ]
    },
    {
      "cell_type": "markdown",
      "metadata": {
        "id": "sYcQZeXOfI9I"
      },
      "source": [
        "We can easily get coverage information in Python. We can setup a trace function as follows (more information can be found [here](https://pymotw.com/3/sys/tracing.html)):"
      ]
    },
    {
      "cell_type": "code",
      "execution_count": 20,
      "metadata": {
        "id": "aD7IPjjifI9I"
      },
      "outputs": [],
      "source": [
        "# record which line got executed\n",
        "coverage = []\n",
        "\n",
        "def traceit(frame, event, arg):\n",
        "    if event == \"line\":\n",
        "        global coverage\n",
        "        #func_filename = frame.f_code.co_filename\n",
        "        function_name = frame.f_code.co_name\n",
        "        lineno = frame.f_lineno\n",
        "        #coverage.append((func_filename, function_name, lineno))\n",
        "        coverage.append((function_name, lineno))\n",
        "\n",
        "    return traceit"
      ]
    },
    {
      "cell_type": "code",
      "execution_count": 120,
      "metadata": {
        "colab": {
          "base_uri": "https://localhost:8080/"
        },
        "id": "UPOyARfTfI9J",
        "outputId": "9cd7da1c-0cc3-41ad-e645-9264d2f67d4d"
      },
      "outputs": [
        {
          "output_type": "stream",
          "name": "stderr",
          "text": [
            "\n",
            "PYDEV DEBUGGER WARNING:\n",
            "sys.settrace() should not be used when the debugger is being used.\n",
            "This may cause the debugger to stop working correctly.\n",
            "If this is needed, please check: \n",
            "http://pydev.blogspot.com/2007/06/why-cant-pydev-debugger-work-with.html\n",
            "to see how to restore the debug tracing back correctly.\n",
            "Call Location:\n",
            "  File \"<ipython-input-120-6e7b5b4f2d4a>\", line 6, in execute_and_trace\n",
            "    sys.settrace(traceit)  # Turn on\n",
            "\n",
            "\n",
            "PYDEV DEBUGGER WARNING:\n",
            "sys.settrace() should not be used when the debugger is being used.\n",
            "This may cause the debugger to stop working correctly.\n",
            "If this is needed, please check: \n",
            "http://pydev.blogspot.com/2007/06/why-cant-pydev-debugger-work-with.html\n",
            "to see how to restore the debug tracing back correctly.\n",
            "Call Location:\n",
            "  File \"<ipython-input-120-6e7b5b4f2d4a>\", line 8, in execute_and_trace\n",
            "    sys.settrace(None)    # Turn off\n",
            "\n"
          ]
        },
        {
          "output_type": "execute_result",
          "data": {
            "text/plain": [
              "[('is_valid_url', 2),\n",
              " ('is_valid_url', 3),\n",
              " ('http_program', 4),\n",
              " ('http_program', 5),\n",
              " ('urlparse', 394),\n",
              " ('_coerce_args', 125),\n",
              " ('_coerce_args', 126),\n",
              " ('_coerce_args', 129),\n",
              " ('_coerce_args', 126),\n",
              " ('_coerce_args', 131),\n",
              " ('_coerce_args', 132),\n",
              " ('urlparse', 395),\n",
              " ('urlsplit', 474),\n",
              " ('_coerce_args', 125),\n",
              " ('_coerce_args', 126),\n",
              " ('_coerce_args', 129),\n",
              " ('_coerce_args', 126),\n",
              " ('_coerce_args', 131),\n",
              " ('_coerce_args', 132),\n",
              " ('urlsplit', 477),\n",
              " ('urlsplit', 478),\n",
              " ('urlsplit', 480),\n",
              " ('urlsplit', 481),\n",
              " ('urlsplit', 482),\n",
              " ('urlsplit', 480),\n",
              " ('urlsplit', 481),\n",
              " ('urlsplit', 482),\n",
              " ('urlsplit', 480),\n",
              " ('urlsplit', 481),\n",
              " ('urlsplit', 482),\n",
              " ('urlsplit', 480),\n",
              " ('urlsplit', 484),\n",
              " ('urlsplit', 485),\n",
              " ('urlsplit', 486),\n",
              " ('urlsplit', 487),\n",
              " ('urlsplit', 488),\n",
              " ('urlsplit', 489),\n",
              " ('urlsplit', 488),\n",
              " ('urlsplit', 489),\n",
              " ('urlsplit', 488),\n",
              " ('urlsplit', 489),\n",
              " ('urlsplit', 488),\n",
              " ('urlsplit', 489),\n",
              " ('urlsplit', 488),\n",
              " ('urlsplit', 492),\n",
              " ('urlsplit', 493),\n",
              " ('urlsplit', 494),\n",
              " ('_splitnetloc', 414),\n",
              " ('_splitnetloc', 415),\n",
              " ('_splitnetloc', 416),\n",
              " ('_splitnetloc', 417),\n",
              " ('_splitnetloc', 415),\n",
              " ('_splitnetloc', 416),\n",
              " ('_splitnetloc', 417),\n",
              " ('_splitnetloc', 415),\n",
              " ('_splitnetloc', 416),\n",
              " ('_splitnetloc', 417),\n",
              " ('_splitnetloc', 415),\n",
              " ('_splitnetloc', 419),\n",
              " ('urlsplit', 495),\n",
              " ('urlsplit', 496),\n",
              " ('urlsplit', 498),\n",
              " ('urlsplit', 501),\n",
              " ('urlsplit', 503),\n",
              " ('urlsplit', 505),\n",
              " ('_checknetloc', 422),\n",
              " ('_checknetloc', 423),\n",
              " ('urlsplit', 506),\n",
              " ('<lambda>', 1),\n",
              " ('urlsplit', 507),\n",
              " ('_noop', 109),\n",
              " ('urlparse', 396),\n",
              " ('urlparse', 397),\n",
              " ('urlparse', 400),\n",
              " ('urlparse', 401),\n",
              " ('<lambda>', 1),\n",
              " ('urlparse', 402),\n",
              " ('_noop', 109),\n",
              " ('http_program', 6),\n",
              " ('http_program', 8),\n",
              " ('http_program', 12),\n",
              " ('is_valid_url', 4),\n",
              " ('_internal_set_trace', 48),\n",
              " ('_internal_set_trace', 49),\n",
              " ('_internal_set_trace', 50),\n",
              " ('_internal_set_trace', 51),\n",
              " ('splitext', 118),\n",
              " ('splitext', 119),\n",
              " ('splitext', 123),\n",
              " ('splitext', 124),\n",
              " ('splitext', 125),\n",
              " ('_splitext', 128),\n",
              " ('_splitext', 129),\n",
              " ('_splitext', 133),\n",
              " ('_splitext', 134),\n",
              " ('_splitext', 142),\n",
              " ('_internal_set_trace', 52),\n",
              " ('_internal_set_trace', 57),\n",
              " ('_internal_set_trace', 58),\n",
              " ('_internal_set_trace', 57),\n",
              " ('_internal_set_trace', 65),\n",
              " ('_internal_set_trace', 68),\n",
              " ('_get_stack_str', 34),\n",
              " ('_get_stack_str', 38),\n",
              " ('_get_stack_str', 39),\n",
              " ('_get_stack_str', 40),\n",
              " ('_get_stack_str', 41),\n",
              " ('print_stack', 205),\n",
              " ('print_stack', 207),\n",
              " ('extract_stack', 226),\n",
              " ('extract_stack', 228),\n",
              " ('extract', 386),\n",
              " ('extract', 390),\n",
              " ('extract', 391),\n",
              " ('extract', 392),\n",
              " ('extract', 390),\n",
              " ('_extract_from_extended_frame_gen', 401),\n",
              " ('_extract_from_extended_frame_gen', 405),\n",
              " ('_extract_from_extended_frame_gen', 406),\n",
              " ('_extract_from_extended_frame_gen', 407),\n",
              " ('_extract_from_extended_frame_gen', 411),\n",
              " ('_extract_from_extended_frame_gen', 412),\n",
              " ('_extract_from_extended_frame_gen', 413),\n",
              " ('extended_frame_gen', 387),\n",
              " ('walk_stack', 328),\n",
              " ('walk_stack', 330),\n",
              " ('walk_stack', 331),\n",
              " ('extended_frame_gen', 388),\n",
              " ('_extract_from_extended_frame_gen', 414),\n",
              " ('_extract_from_extended_frame_gen', 415),\n",
              " ('_extract_from_extended_frame_gen', 416),\n",
              " ('_extract_from_extended_frame_gen', 418),\n",
              " ('_extract_from_extended_frame_gen', 419),\n",
              " ('lazycache', 160),\n",
              " ('lazycache', 161),\n",
              " ('lazycache', 164),\n",
              " ('_extract_from_extended_frame_gen', 421),\n",
              " ('_extract_from_extended_frame_gen', 424),\n",
              " ('_extract_from_extended_frame_gen', 425),\n",
              " ('_extract_from_extended_frame_gen', 426),\n",
              " ('_extract_from_extended_frame_gen', 427),\n",
              " ('_extract_from_extended_frame_gen', 425),\n",
              " ('__init__', 273),\n",
              " ('__init__', 274),\n",
              " ('__init__', 275),\n",
              " ('__init__', 276),\n",
              " ('__init__', 277),\n",
              " ('__init__', 279),\n",
              " ('__init__', 280),\n",
              " ('__init__', 281),\n",
              " ('__init__', 282),\n",
              " ('_extract_from_extended_frame_gen', 413),\n",
              " ('_extract_from_extended_frame_gen', 428),\n",
              " ('_extract_from_extended_frame_gen', 429),\n",
              " ('check_linecache_ipython', 185),\n",
              " ('checkcache', 56),\n",
              " ('checkcache', 58),\n",
              " ('checkcache', 59),\n",
              " ('checkcache', 63),\n",
              " ('checkcache', 64),\n",
              " ('checkcache', 65),\n",
              " ('checkcache', 68),\n",
              " ('checkcache', 69),\n",
              " ('checkcache', 71),\n",
              " ('checkcache', 72),\n",
              " ('checkcache', 73),\n",
              " ('checkcache', 74),\n",
              " ('checkcache', 75),\n",
              " ('checkcache', 63),\n",
              " ('check_linecache_ipython', 188),\n",
              " ('_extract_from_extended_frame_gen', 428),\n",
              " ('_extract_from_extended_frame_gen', 431),\n",
              " ('_extract_from_extended_frame_gen', 432),\n",
              " ('_extract_from_extended_frame_gen', 433),\n",
              " ('line', 315),\n",
              " ('line', 316),\n",
              " ('line', 318),\n",
              " ('getline', 30),\n",
              " ('getlines', 40),\n",
              " ('getlines', 41),\n",
              " ('getlines', 42),\n",
              " ('getlines', 43),\n",
              " ('getline', 31),\n",
              " ('getline', 32),\n",
              " ('line', 319),\n",
              " ('_extract_from_extended_frame_gen', 432),\n",
              " ('_extract_from_extended_frame_gen', 434),\n",
              " ('extract_stack', 229),\n",
              " ('extract_stack', 230),\n",
              " ('print_list', 24),\n",
              " ('print_list', 26),\n",
              " ('from_list', 446),\n",
              " ('from_list', 447),\n",
              " ('from_list', 448),\n",
              " ('from_list', 449),\n",
              " ('from_list', 447),\n",
              " ('from_list', 453),\n",
              " ('format', 532),\n",
              " ('format', 533),\n",
              " ('format', 534),\n",
              " ('format', 535),\n",
              " ('format', 536),\n",
              " ('format', 537),\n",
              " ('format', 538),\n",
              " ('format_frame_summary', 461),\n",
              " ('format_frame_summary', 462),\n",
              " ('format_frame_summary', 463),\n",
              " ('format_frame_summary', 462),\n",
              " ('format_frame_summary', 464),\n",
              " ('line', 315),\n",
              " ('line', 319),\n",
              " ('format_frame_summary', 465),\n",
              " ('line', 315),\n",
              " ('line', 319),\n",
              " ('format_frame_summary', 466),\n",
              " ('format_frame_summary', 468),\n",
              " ('_original_line', 310),\n",
              " ('line', 315),\n",
              " ('line', 319),\n",
              " ('_original_line', 311),\n",
              " ('format_frame_summary', 469),\n",
              " ('format_frame_summary', 470),\n",
              " ('line', 315),\n",
              " ('line', 319),\n",
              " ('format_frame_summary', 471),\n",
              " ('format_frame_summary', 473),\n",
              " ('format_frame_summary', 514),\n",
              " ('format_frame_summary', 518),\n",
              " ('format', 539),\n",
              " ('format', 541),\n",
              " ('format', 544),\n",
              " ('format', 550),\n",
              " ('format', 551),\n",
              " ('format', 552),\n",
              " ('format', 553),\n",
              " ('format', 554),\n",
              " ('format', 555),\n",
              " ('format', 557),\n",
              " ('format', 537),\n",
              " ('format', 559),\n",
              " ('format', 565),\n",
              " ('print_list', 27),\n",
              " ('print_list', 26),\n",
              " ('_get_stack_str', 42),\n",
              " ('_get_stack_str', 44),\n",
              " ('_internal_set_trace', 65),\n",
              " ('_internal_set_trace', 64),\n",
              " ('_internal_set_trace', 70),\n",
              " ('_internal_set_trace', 72),\n",
              " ('_internal_set_trace', 73),\n",
              " ('write', 536),\n",
              " ('write', 539),\n",
              " ('write', 546),\n",
              " ('write', 550),\n",
              " ('_is_master_process', 438),\n",
              " ('write', 552),\n",
              " ('write', 553),\n",
              " ('write', 552),\n",
              " ('write', 554),\n",
              " ('write', 563),\n",
              " ('_schedule_flush', 461),\n",
              " ('_schedule_flush', 463),\n",
              " ('_schedule_flush', 466),\n",
              " ('_schedule_flush', 469),\n",
              " ('schedule', 207),\n",
              " ('is_alive', 1200),\n",
              " ('is_alive', 1201),\n",
              " ('is_set', 577),\n",
              " ('is_alive', 1203),\n",
              " ('_wait_for_tstate_lock', 1132),\n",
              " ('_wait_for_tstate_lock', 1133),\n",
              " ('_wait_for_tstate_lock', 1138),\n",
              " ('_wait_for_tstate_lock', 1139),\n",
              " ('is_alive', 1204),\n",
              " ('schedule', 208),\n",
              " ('schedule', 210),\n",
              " ('_event_pipe', 93),\n",
              " ('_event_pipe', 94),\n",
              " ('_event_pipe', 105),\n",
              " ('send', 602),\n",
              " ('send', 611),\n",
              " ('send', 620),\n",
              " ('write', 565),\n",
              " ('_internal_set_trace', 74),\n",
              " ('flush', 477),\n",
              " ('flush', 476),\n",
              " ('flush', 478),\n",
              " ('flush', 479),\n",
              " ('is_alive', 1200),\n",
              " ('is_alive', 1201),\n",
              " ('is_set', 577),\n",
              " ('is_alive', 1203),\n",
              " ('_wait_for_tstate_lock', 1132),\n",
              " ('_wait_for_tstate_lock', 1133),\n",
              " ('_wait_for_tstate_lock', 1138),\n",
              " ('_wait_for_tstate_lock', 1139),\n",
              " ('is_alive', 1204),\n",
              " ('flush', 478),\n",
              " ('flush', 480),\n",
              " ('ident', 1177),\n",
              " ('ident', 1178),\n",
              " ('current_thread', 1460),\n",
              " ('current_thread', 1461),\n",
              " ('ident', 1177),\n",
              " ('ident', 1178),\n",
              " ('flush', 483),\n",
              " ('schedule', 207),\n",
              " ('is_alive', 1200),\n",
              " ('is_alive', 1201),\n",
              " ('is_set', 577),\n",
              " ('is_alive', 1203),\n",
              " ('_wait_for_tstate_lock', 1132),\n",
              " ('_wait_for_tstate_lock', 1133),\n",
              " ('_wait_for_tstate_lock', 1138),\n",
              " ('_wait_for_tstate_lock', 1139),\n",
              " ('is_alive', 1204),\n",
              " ('schedule', 208),\n",
              " ('schedule', 210),\n",
              " ('_event_pipe', 93),\n",
              " ('_event_pipe', 94),\n",
              " ('_event_pipe', 105),\n",
              " ('send', 602),\n",
              " ('send', 611),\n",
              " ('send', 620),\n",
              " ('flush', 485),\n",
              " ('__init__', 563),\n",
              " ('__init__', 244),\n",
              " ('__init__', 246),\n",
              " ('__init__', 248),\n",
              " ('__init__', 249),\n",
              " ('__init__', 253),\n",
              " ('__init__', 254),\n",
              " ('__init__', 255),\n",
              " ('__init__', 256),\n",
              " ('__init__', 257),\n",
              " ('__init__', 258),\n",
              " ('__init__', 259),\n",
              " ('__init__', 260),\n",
              " ('__init__', 261),\n",
              " ('__init__', 262),\n",
              " ('__init__', 263),\n",
              " ('__init__', 264),\n",
              " ('__init__', 265),\n",
              " ('__init__', 564),\n",
              " ('flush', 486),\n",
              " ('schedule', 207),\n",
              " ('is_alive', 1200),\n",
              " ('is_alive', 1201),\n",
              " ('is_set', 577),\n",
              " ('is_alive', 1203),\n",
              " ('_wait_for_tstate_lock', 1132),\n",
              " ('_wait_for_tstate_lock', 1133),\n",
              " ('_wait_for_tstate_lock', 1138),\n",
              " ('_wait_for_tstate_lock', 1139),\n",
              " ('is_alive', 1204),\n",
              " ('schedule', 208),\n",
              " ('schedule', 210),\n",
              " ('_event_pipe', 93),\n",
              " ('_event_pipe', 94),\n",
              " ('_event_pipe', 105),\n",
              " ('send', 602),\n",
              " ('send', 611),\n",
              " ('send', 620),\n",
              " ('flush', 488),\n",
              " ('wait', 626),\n",
              " ('__enter__', 272),\n",
              " ('wait', 627),\n",
              " ('wait', 628),\n",
              " ('wait', 630),\n",
              " ('wait', 626),\n",
              " ('__exit__', 275),\n",
              " ('_internal_set_trace', 76),\n",
              " ('_internal_set_trace', 77)]"
            ]
          },
          "metadata": {},
          "execution_count": 120
        }
      ],
      "source": [
        "import sys\n",
        "\n",
        "def execute_and_trace(fun, inp):\n",
        "    global coverage\n",
        "    coverage = []\n",
        "    sys.settrace(traceit)  # Turn on\n",
        "    fun(inp)\n",
        "    sys.settrace(None)    # Turn off\n",
        "\n",
        "inp = \"http://www.concordia.ca\"\n",
        "execute_and_trace(is_valid_url, inp)\n",
        "[cov for cov in coverage]"
      ]
    },
    {
      "cell_type": "markdown",
      "metadata": {
        "id": "c8nO6sOpfI9J"
      },
      "source": [
        "We can also use the *Coverage* class from the fuzzing book to achieve the same goal. The code in the fuzzing book simply abstracts the above-mentioned code."
      ]
    },
    {
      "cell_type": "code",
      "execution_count": 22,
      "metadata": {
        "colab": {
          "base_uri": "https://localhost:8080/"
        },
        "id": "wo_Dto96fI9J",
        "outputId": "d68072ff-af17-4b61-af3d-43dc4109fdd0"
      },
      "outputs": [
        {
          "output_type": "stream",
          "name": "stderr",
          "text": [
            "\n",
            "PYDEV DEBUGGER WARNING:\n",
            "sys.settrace() should not be used when the debugger is being used.\n",
            "This may cause the debugger to stop working correctly.\n",
            "If this is needed, please check: \n",
            "http://pydev.blogspot.com/2007/06/why-cant-pydev-debugger-work-with.html\n",
            "to see how to restore the debug tracing back correctly.\n",
            "Call Location:\n",
            "  File \"/usr/local/lib/python3.11/dist-packages/fuzzingbook/Coverage.py\", line 378, in __enter__\n",
            "    sys.settrace(self.traceit)\n",
            "\n",
            "\n",
            "PYDEV DEBUGGER WARNING:\n",
            "sys.settrace() should not be used when the debugger is being used.\n",
            "This may cause the debugger to stop working correctly.\n",
            "If this is needed, please check: \n",
            "http://pydev.blogspot.com/2007/06/why-cant-pydev-debugger-work-with.html\n",
            "to see how to restore the debug tracing back correctly.\n",
            "Call Location:\n",
            "  File \"/usr/local/lib/python3.11/dist-packages/fuzzingbook/Coverage.py\", line 384, in __exit__\n",
            "    sys.settrace(self.original_trace_function)\n",
            "\n"
          ]
        },
        {
          "output_type": "execute_result",
          "data": {
            "text/plain": [
              "[('_internal_set_trace', 49),\n",
              " ('_event_pipe', 93),\n",
              " ('_internal_set_trace', 58),\n",
              " ('extended_frame_gen', 387),\n",
              " ('write', 539),\n",
              " ('_coerce_args', 132),\n",
              " ('_internal_set_trace', 76),\n",
              " ('checkcache', 56),\n",
              " ('__init__', 246),\n",
              " ('format', 534),\n",
              " ('__init__', 255),\n",
              " ('_get_stack_str', 39),\n",
              " ('getline', 31),\n",
              " ('_extract_from_extended_frame_gen', 407),\n",
              " ('_splitext', 139),\n",
              " ('format', 552),\n",
              " ('_extract_from_extended_frame_gen', 416),\n",
              " ('urlparse', 394),\n",
              " ('is_alive', 1201),\n",
              " ('flush', 479),\n",
              " ('_extract_from_extended_frame_gen', 425),\n",
              " ('flush', 488),\n",
              " ('_internal_set_trace', 51),\n",
              " ('current_thread', 1461),\n",
              " ('_coerce_args', 125),\n",
              " ('schedule', 207),\n",
              " ('format_frame_summary', 469),\n",
              " ('__init__', 248),\n",
              " ('format', 536),\n",
              " ('_get_stack_str', 41),\n",
              " ('getlines', 40),\n",
              " ('format', 554),\n",
              " ('ident', 1177),\n",
              " ('__enter__', 272),\n",
              " ('_extract_from_extended_frame_gen', 418),\n",
              " ('urlparse', 396),\n",
              " ('is_alive', 1203),\n",
              " ('format_frame_summary', 462),\n",
              " ('format_frame_summary', 471),\n",
              " ('line', 316),\n",
              " ('format', 538),\n",
              " ('_wait_for_tstate_lock', 1138),\n",
              " ('_get_stack_str', 34),\n",
              " ('_splitext', 134),\n",
              " ('getlines', 42),\n",
              " ('_extract_from_extended_frame_gen', 411),\n",
              " ('checkcache', 72),\n",
              " ('walk_stack', 330),\n",
              " ('flush', 483),\n",
              " ('_schedule_flush', 469),\n",
              " ('<lambda>', 1),\n",
              " ('__init__', 280),\n",
              " ('_internal_set_trace', 64),\n",
              " ('write', 536),\n",
              " ('flush', 477),\n",
              " ('_extract_from_extended_frame_gen', 432),\n",
              " ('format_frame_summary', 464),\n",
              " ('_original_line', 311),\n",
              " ('format_frame_summary', 473),\n",
              " ('line', 318),\n",
              " ('lazycache', 161),\n",
              " ('extract', 391),\n",
              " ('_splitext', 136),\n",
              " ('checkcache', 65),\n",
              " ('__init__', 563),\n",
              " ('flush', 476),\n",
              " ('__init__', 264),\n",
              " ('is_set', 577),\n",
              " ('urlparse', 400),\n",
              " ('_internal_set_trace', 48),\n",
              " ('__init__', 273),\n",
              " ('http_program', 6),\n",
              " ('_internal_set_trace', 57),\n",
              " ('__init__', 282),\n",
              " ('print_stack', 205),\n",
              " ('_extract_from_extended_frame_gen', 434),\n",
              " ('format_frame_summary', 466),\n",
              " ('format', 533),\n",
              " ('print_list', 27),\n",
              " ('_splitext', 129),\n",
              " ('checkcache', 58),\n",
              " ('write', 550),\n",
              " ('format', 551),\n",
              " ('_extract_from_extended_frame_gen', 406),\n",
              " ('_splitext', 138),\n",
              " ('__init__', 257),\n",
              " ('is_alive', 1200),\n",
              " ('checkcache', 76),\n",
              " ('schedule', 208),\n",
              " ('splitext', 124),\n",
              " ('urlparse', 402),\n",
              " ('_internal_set_trace', 50),\n",
              " ('__init__', 275),\n",
              " ('_event_pipe', 94),\n",
              " ('http_program', 8),\n",
              " ('format_frame_summary', 514),\n",
              " ('_extract_from_extended_frame_gen', 427),\n",
              " ('print_stack', 207),\n",
              " ('_is_master_process', 438),\n",
              " ('format_frame_summary', 468),\n",
              " ('format', 535),\n",
              " ('extract', 386),\n",
              " ('format', 544),\n",
              " ('write', 552),\n",
              " ('checkcache', 69),\n",
              " ('__init__', 259),\n",
              " ('urlparse', 395),\n",
              " ('_schedule_flush', 466),\n",
              " ('schedule', 210),\n",
              " ('_internal_set_trace', 52),\n",
              " ('__init__', 277),\n",
              " ('format', 565),\n",
              " ('send', 602),\n",
              " ('send', 611),\n",
              " ('_extract_from_extended_frame_gen', 429),\n",
              " ('format_frame_summary', 461),\n",
              " ('send', 620),\n",
              " ('line', 315),\n",
              " ('_coerce_args', 129),\n",
              " ('_noop', 109),\n",
              " ('from_list', 447),\n",
              " ('extract_stack', 229),\n",
              " ('format', 537),\n",
              " ('_internal_set_trace', 73),\n",
              " ('write', 554),\n",
              " ('wait', 626),\n",
              " ('write', 563),\n",
              " ('checkcache', 71),\n",
              " ('__init__', 261),\n",
              " ('splitext', 119),\n",
              " ('urlparse', 397),\n",
              " ('is_valid_url', 3),\n",
              " ('_extract_from_extended_frame_gen', 413),\n",
              " ('check_linecache_ipython', 188),\n",
              " ('__init__', 279),\n",
              " ('flush', 485),\n",
              " ('http_program', 12),\n",
              " ('format_frame_summary', 518),\n",
              " ('_extract_from_extended_frame_gen', 431),\n",
              " ('_original_line', 310),\n",
              " ('_coerce_args', 131),\n",
              " ('lazycache', 160),\n",
              " ('from_list', 449),\n",
              " ('extract', 390),\n",
              " ('_wait_for_tstate_lock', 1133),\n",
              " ('checkcache', 64),\n",
              " ('__init__', 254),\n",
              " ('wait', 628),\n",
              " ('write', 565),\n",
              " ('_get_stack_str', 38),\n",
              " ('_schedule_flush', 461),\n",
              " ('walk_stack', 331),\n",
              " ('getline', 30),\n",
              " ('__init__', 263),\n",
              " ('_extract_from_extended_frame_gen', 415),\n",
              " ('flush', 478),\n",
              " ('http_program', 5),\n",
              " ('__init__', 281),\n",
              " ('_extract_from_extended_frame_gen', 424),\n",
              " ('_extract_from_extended_frame_gen', 433),\n",
              " ('current_thread', 1460),\n",
              " ('extended_frame_gen', 388),\n",
              " ('_internal_set_trace', 68),\n",
              " ('_internal_set_trace', 77),\n",
              " ('extract', 392),\n",
              " ('__init__', 256),\n",
              " ('wait', 630),\n",
              " ('_get_stack_str', 40),\n",
              " ('__init__', 265),\n",
              " ('splitext', 123),\n",
              " ('getline', 32),\n",
              " ('format', 553),\n",
              " ('__init__', 274),\n",
              " ('flush', 480),\n",
              " ('_extract_from_extended_frame_gen', 426),\n",
              " ('_coerce_args', 126),\n",
              " ('_event_pipe', 105),\n",
              " ('extract_stack', 226),\n",
              " ('_internal_set_trace', 70),\n",
              " ('lazycache', 164),\n",
              " ('format_frame_summary', 470),\n",
              " ('from_list', 453),\n",
              " ('checkcache', 59),\n",
              " ('__init__', 249),\n",
              " ('checkcache', 68),\n",
              " ('__init__', 258),\n",
              " ('_extract_from_extended_frame_gen', 401),\n",
              " ('_splitext', 133),\n",
              " ('getlines', 41),\n",
              " ('_get_stack_str', 42),\n",
              " ('splitext', 125),\n",
              " ('check_linecache_ipython', 185),\n",
              " ('format', 555),\n",
              " ('ident', 1178),\n",
              " ('__init__', 276),\n",
              " ('_extract_from_extended_frame_gen', 419),\n",
              " ('is_alive', 1204),\n",
              " ('_extract_from_extended_frame_gen', 428),\n",
              " ('format_frame_summary', 463),\n",
              " ('from_list', 446),\n",
              " ('extract_stack', 228),\n",
              " ('_internal_set_trace', 72),\n",
              " ('write', 553),\n",
              " ('print_list', 24),\n",
              " ('format', 539),\n",
              " ('_wait_for_tstate_lock', 1139),\n",
              " ('walk_stack', 328),\n",
              " ('splitext', 118),\n",
              " ('__init__', 260),\n",
              " ('_get_stack_str', 44),\n",
              " ('is_valid_url', 2),\n",
              " ('getlines', 43),\n",
              " ('format', 557),\n",
              " ('_extract_from_extended_frame_gen', 412),\n",
              " ('_extract_from_extended_frame_gen', 421),\n",
              " ('_internal_set_trace', 65),\n",
              " ('format_frame_summary', 465),\n",
              " ('from_list', 448),\n",
              " ('extract_stack', 230),\n",
              " ('write', 546),\n",
              " ('_internal_set_trace', 74),\n",
              " ('__init__', 244),\n",
              " ('format', 532),\n",
              " ('_wait_for_tstate_lock', 1132),\n",
              " ('checkcache', 63),\n",
              " ('line', 319),\n",
              " ('print_list', 26),\n",
              " ('format', 541),\n",
              " ('__init__', 253),\n",
              " ('_splitext', 128),\n",
              " ('wait', 627),\n",
              " ('__init__', 262),\n",
              " ('format', 550),\n",
              " ('_extract_from_extended_frame_gen', 405),\n",
              " ('_splitext', 137),\n",
              " ('is_valid_url', 4),\n",
              " ('__init__', 564),\n",
              " ('format', 559),\n",
              " ('_extract_from_extended_frame_gen', 414),\n",
              " ('http_program', 4),\n",
              " ('_schedule_flush', 463),\n",
              " ('flush', 486),\n",
              " ('urlparse', 401)]"
            ]
          },
          "metadata": {},
          "execution_count": 22
        }
      ],
      "source": [
        "from fuzzingbook.Coverage import Coverage\n",
        "\n",
        "inp = \"http://www.concordia.ca\"\n",
        "\n",
        "with Coverage() as cov:\n",
        "    is_valid_url(inp)\n",
        "\n",
        "[c for c in cov.coverage()]"
      ]
    },
    {
      "cell_type": "markdown",
      "metadata": {
        "id": "1xMC7mdyfI9J"
      },
      "source": [
        "How can the coverage information help us during fuzzing? Let's look at the example below."
      ]
    },
    {
      "cell_type": "code",
      "execution_count": 39,
      "metadata": {
        "colab": {
          "base_uri": "https://localhost:8080/"
        },
        "id": "SdnBdf6HfI9J",
        "outputId": "45d3f8de-9b9e-4d46-8650-a606d64ac1b0"
      },
      "outputs": [
        {
          "output_type": "execute_result",
          "data": {
            "text/plain": [
              "set()"
            ]
          },
          "metadata": {},
          "execution_count": 39
        }
      ],
      "source": [
        "with Coverage() as first_cov:\n",
        "    is_valid_url(\"http://www.concordia.ca\")\n",
        "with Coverage() as second_cov:\n",
        "    # the URL of searching \"google\" on Google\n",
        "    is_valid_url(\"https://www.google.com/search?q=google&rlz=1C5CHFA_enCA758CA758&oq=google&aqs=chrome..69i57j69i60l3j69i65j69i60.4544j0j7&sourceid=chrome&ie=UTF-8\")\n",
        "\n",
        "first_cov.coverage() - second_cov.coverage()"
      ]
    },
    {
      "cell_type": "markdown",
      "metadata": {
        "id": "U7-RUO4OfI9J"
      },
      "source": [
        "The coverage information for different inputs may be different! Let's see the relationship between input and coverage."
      ]
    },
    {
      "cell_type": "code",
      "execution_count": 40,
      "metadata": {
        "id": "S3Qep8M5fI9J"
      },
      "outputs": [],
      "source": [
        "def calculate_cumulative_coverage(input_population, function):\n",
        "    cumulative_coverage = []\n",
        "    all_coverage = set()\n",
        "\n",
        "    for inp in input_population:\n",
        "        with Coverage() as cov:\n",
        "            try:\n",
        "                function(inp)\n",
        "            except:\n",
        "                # we ignore exceptions for the purpose of this code, but some exceptions may be interesting\n",
        "                pass\n",
        "        # set union\n",
        "        all_coverage |= cov.coverage()\n",
        "        cumulative_coverage.append(len(all_coverage))\n",
        "    return cumulative_coverage"
      ]
    },
    {
      "cell_type": "markdown",
      "metadata": {
        "id": "9IiWEA_efI9J"
      },
      "source": [
        "The above code measures the cumulative coverage for a set of inputs (i.e., input_population). Let's test this code by doing some simple fuzzing."
      ]
    },
    {
      "cell_type": "code",
      "execution_count": 41,
      "metadata": {
        "colab": {
          "base_uri": "https://localhost:8080/"
        },
        "id": "OmBa6heSfI9J",
        "outputId": "1cad7c89-c115-49d9-9bb6-c4feae712605"
      },
      "outputs": [
        {
          "output_type": "execute_result",
          "data": {
            "text/plain": [
              "[171,\n",
              " 201,\n",
              " 206,\n",
              " 207,\n",
              " 207,\n",
              " 208,\n",
              " 208,\n",
              " 208,\n",
              " 208,\n",
              " 208,\n",
              " 208,\n",
              " 208,\n",
              " 208,\n",
              " 208,\n",
              " 208,\n",
              " 208,\n",
              " 208,\n",
              " 208,\n",
              " 208,\n",
              " 208]"
            ]
          },
          "metadata": {},
          "execution_count": 41
        }
      ],
      "source": [
        "trials = 20\n",
        "fuzzer = MutationFuzzer(seed = [\"http://www.concordia.ca\"])\n",
        "\n",
        "population = []\n",
        "for i in range(0, trials):\n",
        "    population.append(fuzzer.fuzz())\n",
        "\n",
        "cumulative_coverage = calculate_cumulative_coverage(population, is_valid_url)\n",
        "cumulative_coverage"
      ]
    },
    {
      "cell_type": "markdown",
      "metadata": {
        "id": "AyS2zou9fI9J"
      },
      "source": [
        "We can also visualize the cumulative coverage."
      ]
    },
    {
      "cell_type": "code",
      "execution_count": 42,
      "metadata": {
        "colab": {
          "base_uri": "https://localhost:8080/",
          "height": 490
        },
        "id": "f1v3q891fI9K",
        "outputId": "af217011-4646-4c48-f770-a55b3427f747"
      },
      "outputs": [
        {
          "output_type": "execute_result",
          "data": {
            "text/plain": [
              "Text(0, 0.5, 'lines covered')"
            ]
          },
          "metadata": {},
          "execution_count": 42
        },
        {
          "output_type": "display_data",
          "data": {
            "text/plain": [
              "<Figure size 640x480 with 1 Axes>"
            ],
            "image/png": "[encoded data removed]"
          },
          "metadata": {}
        }
      ],
      "source": [
        "import matplotlib.pyplot as plt\n",
        "%matplotlib inline\n",
        "\n",
        "plt.plot(cumulative_coverage)\n",
        "plt.title('Coverage of is_valid_url() with random inputs')\n",
        "plt.xlabel('# of inputs')\n",
        "plt.ylabel('lines covered')"
      ]
    },
    {
      "cell_type": "code",
      "execution_count": 135,
      "metadata": {
        "id": "A8dNlqYvfI9K"
      },
      "outputs": [],
      "source": [
        "import numpy as np\n",
        "\n",
        "class SmartFuzzer:\n",
        "    def __init__(self, population=[]):\n",
        "\n",
        "        self.population = population\n",
        "        if self.population == []:\n",
        "            self.population = ([\"https://www.google.com\", \"http://www.concordia.ca\"])\n",
        "\n",
        "        self.weights = []\n",
        "        self.calculate_weights()\n",
        "\n",
        "        self.trials = 20\n",
        "        self.cumulative_coverage = []\n",
        "        self.all_coverage = set()\n",
        "        self.errors = []\n",
        "        self.function_name  = \"\"\n",
        "\n",
        "    def calculate_weights(self):\n",
        "        for seed in self.population:\n",
        "            with Coverage() as cov:\n",
        "                    try:\n",
        "                        function(seed)\n",
        "                    except:\n",
        "                        pass\n",
        "            self.weights.append(len(cov.coverage()))\n",
        "\n",
        "    def smart_fuzz(self, function):\n",
        "        k = len(self.population)//2 if len(self.population) > 1 else 1\n",
        "        # seeds = random.choices(self.population, weights=self.weights, k=k)\n",
        "\n",
        "        probability = np.array(self.weights) / np.sum(self.weights)\n",
        "        seeds = np.random.choice(self.population, k, replace=False, p=probability)\n",
        "\n",
        "        fuzzer = MutationFuzzer(seed=seeds)\n",
        "        for i in range(0, self.trials):\n",
        "            inp = fuzzer.fuzz()\n",
        "            with Coverage() as cov:\n",
        "                try:\n",
        "                    function(inp)\n",
        "                except Exception as e:\n",
        "                    self.errors.append(e)\n",
        "\n",
        "            if cov.coverage() - self.all_coverage != set():\n",
        "                self.all_coverage |= cov.coverage()\n",
        "                if inp not in self.population:\n",
        "                    self.population.append(inp)\n",
        "                    self.weights.append(len(cov.coverage()))\n",
        "\n",
        "            self.cumulative_coverage.append(len(self.all_coverage))\n",
        "\n",
        "    def Xsmart_fuzz(self, function, x):\n",
        "        for i in range(x):\n",
        "            self.smart_fuzz(function)\n",
        "        self.function_name = function.__name__\n",
        "\n",
        "    def plot_coverage(self):\n",
        "        plt.plot(self.cumulative_coverage)\n",
        "        plt.title(f'Coverage of {self.function_name}() with SmartFuzzer')\n",
        "        plt.xlabel('# of inputs')\n",
        "        plt.ylabel('lines covered')"
      ]
    },
    {
      "cell_type": "code",
      "execution_count": 136,
      "metadata": {
        "colab": {
          "base_uri": "https://localhost:8080/",
          "height": 528
        },
        "id": "_4qNGpKRfI9K",
        "outputId": "e1f7c068-e39b-4c2e-8158-ff38d8d72fc3"
      },
      "outputs": [
        {
          "output_type": "stream",
          "name": "stdout",
          "text": [
            "['https://www.google.com', 'http://www.concordia.ca', 'Mhp://www.c6mncord1ieca', 'h|tp:/_/}www.concobdia.ca', 'http8//w\\\\ww.oncordia.c?aC', 'http://wuw/cocordia.ca', 'http:/wuw.cv:onc\\x7frdia.ca', 'ht%tp://uw/cxoc{rd#a.ca', 'http:;/wuw.cv:onc\\x7frdia.`ca', '\"7https:l//wwxw.gogle.c;Co']\n",
            "[149, 149, 201, 192, 190, 202, 193, 193, 197, 193]\n"
          ]
        },
        {
          "output_type": "display_data",
          "data": {
            "text/plain": [
              "<Figure size 640x480 with 1 Axes>"
            ],
            "image/png": "[encoded data removed]"
          },
          "metadata": {}
        }
      ],
      "source": [
        "smart_fuzzer = SmartFuzzer()\n",
        "smart_fuzzer.Xsmart_fuzz(is_valid_url, 10)\n",
        "smart_fuzzer.plot_coverage()\n",
        "print(smart_fuzzer.population)\n",
        "print(smart_fuzzer.weights)"
      ]
    },
    {
      "cell_type": "code",
      "source": [
        "def is_valid_email(email):\n",
        "    if \"@\" not in email or \".\" not in email:\n",
        "        return False\n",
        "\n",
        "    local, domain = email.split(\"@\", 1)\n",
        "\n",
        "    if not local or not domain:\n",
        "        return False\n",
        "    if \".\" not in domain:\n",
        "        return False\n",
        "\n",
        "    if domain.startswith(\".\") or domain.endswith(\".\"):\n",
        "        return False\n",
        "\n",
        "    if any(c.isspace() for c in email):\n",
        "        return False\n",
        "\n",
        "    invalid_chars = '(),:;<>@[]\\\\\"'\n",
        "    if any(c in invalid_chars for c in local):\n",
        "        return False\n",
        "\n",
        "    return True\n",
        "\n",
        "# Example Usage\n",
        "emails = [\n",
        "    \"valid@example.com\",\n",
        "    \"invalid@.com\",\n",
        "    \"noatmark.com\",\n",
        "    \"spaces in@email.com\",\n",
        "    \"@missinglocal.com\",\n",
        "    \"missingdomain@\",\n",
        "    \"ng@aut.ac.ir\",\n",
        "]\n",
        "\n",
        "for email in emails:\n",
        "    print(f\"{email}: {'Valid' if is_valid_email(email) else 'Invalid'}\")\n"
      ],
      "metadata": {
        "colab": {
          "base_uri": "https://localhost:8080/"
        },
        "id": "_GDXbMhJPrEU",
        "outputId": "0e2cd2f6-e89c-4fc7-8e23-703720ccec56"
      },
      "execution_count": 137,
      "outputs": [
        {
          "output_type": "stream",
          "name": "stdout",
          "text": [
            "valid@example.com: Valid\n",
            "invalid@.com: Invalid\n",
            "noatmark.com: Invalid\n",
            "spaces in@email.com: Invalid\n",
            "@missinglocal.com: Invalid\n",
            "missingdomain@: Invalid\n",
            "ng@aut.ac.ir: Valid\n"
          ]
        }
      ]
    },
    {
      "cell_type": "code",
      "source": [
        "smart_fuzzer = SmartFuzzer(population=[\"ali@gmail.com\", \"mamad@yahoo.com\", \"ng@aut.ac.ir\"])\n",
        "smart_fuzzer.Xsmart_fuzz(is_valid_email, 10)\n",
        "smart_fuzzer.plot_coverage()\n",
        "print(smart_fuzzer.population)\n",
        "print(smart_fuzzer.weights)"
      ],
      "metadata": {
        "colab": {
          "base_uri": "https://localhost:8080/",
          "height": 508
        },
        "id": "rYi01tVaQj-9",
        "outputId": "265b8b42-c0be-46dd-bb9c-e8a599463d23"
      },
      "execution_count": 138,
      "outputs": [
        {
          "output_type": "stream",
          "name": "stdout",
          "text": [
            "['ali@gmail.com', 'mamad@yahoo.com', 'ng@aut.ac.ir', 'jea}tML.7a_#c.ir', 'a,@gb-feil.|cowm', 'a@vf -feml.\\\\cow', '@a,gb-fel.|com', 'a.@Ldgb-Anailn||cowM']\n",
            "[149, 149, 149, 151, 160, 157, 153, 154]\n"
          ]
        },
        {
          "output_type": "display_data",
          "data": {
            "text/plain": [
              "<Figure size 640x480 with 1 Axes>"
            ],
            "image/png": "[encoded data removed]"
          },
          "metadata": {}
        }
      ]
    },
    {
      "cell_type": "code",
      "source": [
        "def check_password_strength(password):\n",
        "    length = len(password)\n",
        "    has_upper = has_lower = has_digit = has_special = False\n",
        "    special_chars = \"!@#$%^&*()-_=+[]{}|;:'\\\",.<>?/`~\"\n",
        "\n",
        "    for char in password:\n",
        "        if char.isdigit():\n",
        "            has_digit = True\n",
        "        elif char.islower():\n",
        "            has_lower = True\n",
        "        elif char.isupper():\n",
        "            has_upper = True\n",
        "        elif char in special_chars:\n",
        "            has_special = True\n",
        "\n",
        "    score = sum([has_upper, has_lower, has_digit, has_special])\n",
        "\n",
        "    if length < 8:\n",
        "        return \"Weak (Too short)\"\n",
        "    elif score == 1:\n",
        "        return \"Weak\"\n",
        "    elif score == 2:\n",
        "        return \"Moderate\"\n",
        "    elif score == 3:\n",
        "        return \"Strong\"\n",
        "    elif score == 4 and length >= 12:\n",
        "        return \"Very Strong\"\n",
        "    else:\n",
        "        return \"Strong\"\n",
        "\n",
        "# Example Usage\n",
        "passwords = [\n",
        "    \"password\", \"P@ssw0rd\", \"12345678\", \"Abc123\", \"Abc$123xyz!\", \"A1!\", \"LongerPass1$\"\n",
        "]\n",
        "\n",
        "for pwd in passwords:\n",
        "    print(f\"{pwd}: {check_password_strength(pwd)}\")\n"
      ],
      "metadata": {
        "colab": {
          "base_uri": "https://localhost:8080/"
        },
        "id": "gVb8L_pBXmr-",
        "outputId": "c493d5ca-a4d3-43eb-b2b0-5522608b69bf"
      },
      "execution_count": 139,
      "outputs": [
        {
          "output_type": "stream",
          "name": "stdout",
          "text": [
            "password: Weak\n",
            "P@ssw0rd: Strong\n",
            "12345678: Weak\n",
            "Abc123: Weak (Too short)\n",
            "Abc$123xyz!: Strong\n",
            "A1!: Weak (Too short)\n",
            "LongerPass1$: Very Strong\n"
          ]
        }
      ]
    },
    {
      "cell_type": "code",
      "source": [
        "smart_fuzzer = SmartFuzzer(population=[\"password\", \"12345678\", \"Concordia50:)\"])\n",
        "smart_fuzzer.Xsmart_fuzz(check_password_strength, 10)\n",
        "smart_fuzzer.plot_coverage()\n",
        "print(smart_fuzzer.population)\n",
        "print(smart_fuzzer.weights)"
      ],
      "metadata": {
        "colab": {
          "base_uri": "https://localhost:8080/",
          "height": 508
        },
        "id": "ECYenQdJXx_q",
        "outputId": "561d9d9b-f2ec-4928-c13b-0b3e55d431ec"
      },
      "execution_count": 140,
      "outputs": [
        {
          "output_type": "stream",
          "name": "stdout",
          "text": [
            "['password', '12345678', 'Concordia50:)', 'Conorda10:)', 'on;co-rdqi>a50:)', '12\"378', '1&2345_&7']\n",
            "[149, 149, 149, 168, 166, 162, 164]\n"
          ]
        },
        {
          "output_type": "display_data",
          "data": {
            "text/plain": [
              "<Figure size 640x480 with 1 Axes>"
            ],
            "image/png": "[encoded data removed]"
          },
          "metadata": {}
        }
      ]
    },
    {
      "cell_type": "code",
      "source": [
        "def is_valid_name(name):\n",
        "    if not name:\n",
        "        return False  # Empty name is invalid\n",
        "\n",
        "    if len(name) < 2 or len(name) > 50:\n",
        "        return False  # Name should be within a reasonable length\n",
        "\n",
        "    allowed_chars = \" -'\"  # Allow spaces, hyphens, and apostrophes\n",
        "    has_letter = False\n",
        "\n",
        "    for char in name:\n",
        "        if char.isalpha():\n",
        "            has_letter = True\n",
        "        elif char not in allowed_chars:\n",
        "            return False  # Invalid character found\n",
        "\n",
        "    return has_letter  # Ensure there's at least one letter\n",
        "\n",
        "# Example Usage\n",
        "names = [\n",
        "    \"John Doe\", \"O'Connor\", \"Jean-Luc\", \"A\", \"Robert123\", \" \", \"Elizabeth-Anne\", \"Dr. Strange\"\n",
        "]\n",
        "\n",
        "for name in names:\n",
        "    print(f\"{name}: {'Valid' if is_valid_name(name) else 'Invalid'}\")\n"
      ],
      "metadata": {
        "colab": {
          "base_uri": "https://localhost:8080/"
        },
        "id": "XErY9ADQe5s1",
        "outputId": "0031ee36-b955-4fe2-d337-f30bbed25bc0"
      },
      "execution_count": 141,
      "outputs": [
        {
          "output_type": "stream",
          "name": "stdout",
          "text": [
            "John Doe: Valid\n",
            "O'Connor: Valid\n",
            "Jean-Luc: Valid\n",
            "A: Invalid\n",
            "Robert123: Invalid\n",
            " : Invalid\n",
            "Elizabeth-Anne: Valid\n",
            "Dr. Strange: Invalid\n"
          ]
        }
      ]
    },
    {
      "cell_type": "code",
      "source": [
        "smart_fuzzer = SmartFuzzer(population=[\"John Doe\", \"Taylor Swift\", \"Elizabeth-Anne\"])\n",
        "smart_fuzzer.Xsmart_fuzz(is_valid_name, 10)\n",
        "smart_fuzzer.plot_coverage()\n",
        "print(smart_fuzzer.population)\n",
        "print(smart_fuzzer.weights)"
      ],
      "metadata": {
        "colab": {
          "base_uri": "https://localhost:8080/",
          "height": 508
        },
        "id": "8xD4lHnMfBu5",
        "outputId": "4422b583-5380-4aa3-ec85-d2ab0cc82dff"
      },
      "execution_count": 142,
      "outputs": [
        {
          "output_type": "stream",
          "name": "stdout",
          "text": [
            "['John Doe', 'Taylor Swift', 'Elizabeth-Anne', 'vay|lor S<ift', 'o', '']\n",
            "[149, 149, 149, 158, 152, 151]\n"
          ]
        },
        {
          "output_type": "display_data",
          "data": {
            "text/plain": [
              "<Figure size 640x480 with 1 Axes>"
            ],
            "image/png": "[encoded data removed]"
          },
          "metadata": {}
        }
      ]
    },
    {
      "cell_type": "code",
      "source": [
        "class RandomFuzzerChecker:\n",
        "    def __init__(self):\n",
        "        self.cumulative_coverage = []\n",
        "        self.all_coverage = set()\n",
        "        self.errors = []\n",
        "        self.function_name = \"\"\n",
        "\n",
        "    def check_coverage(self, function, x):\n",
        "        random_fuzzer = RandomFuzzer()\n",
        "\n",
        "        for i in range(x):\n",
        "            inp = random_fuzzer.fuzz()\n",
        "            with Coverage() as cov:\n",
        "                try:\n",
        "                    function(inp)\n",
        "                except Exception as e:\n",
        "                    self.errors.append(e)\n",
        "\n",
        "            self.all_coverage |= cov.coverage()\n",
        "            self.cumulative_coverage.append(len(self.all_coverage))\n",
        "\n",
        "        self.function_name = function.__name__\n",
        "\n",
        "    def plot_coverage(self):\n",
        "        plt.plot(self.cumulative_coverage)\n",
        "        plt.title(f'Coverage of {self.function_name}() with RandomFuzzer')\n",
        "        plt.xlabel('# of inputs')\n",
        "        plt.ylabel('lines covered')\n",
        "\n",
        "class MutationFuzzerChecker:\n",
        "    def __init__(self, population):\n",
        "        self.population = population\n",
        "        self.cumulative_coverage = []\n",
        "        self.all_coverage = set()\n",
        "        self.errors = []\n",
        "        self.function_name = \"\"\n",
        "\n",
        "    def check_coverage(self, function, x):\n",
        "        fuzzer = MutationFuzzer(seed=self.population)\n",
        "        for i in range(0, x):\n",
        "            inp = fuzzer.fuzz()\n",
        "            with Coverage() as cov:\n",
        "                try:\n",
        "                    function(inp)\n",
        "                except Exception as e:\n",
        "                    self.errors.append(e)\n",
        "\n",
        "            self.all_coverage |= cov.coverage()\n",
        "            self.cumulative_coverage.append(len(self.all_coverage))\n",
        "\n",
        "        self.function_name = function.__name__\n",
        "\n",
        "    def plot_coverage(self):\n",
        "        plt.plot(self.cumulative_coverage)\n",
        "        plt.title(f'Coverage of {self.function_name}() with MutationFuzzer')\n",
        "        plt.xlabel('# of inputs')\n",
        "        plt.ylabel('lines covered')"
      ],
      "metadata": {
        "id": "HOKxptCKZB00"
      },
      "execution_count": 143,
      "outputs": []
    },
    {
      "cell_type": "code",
      "source": [
        "random_fuzzer = RandomFuzzerChecker()\n",
        "random_fuzzer.check_coverage(is_valid_email, 200)\n",
        "random_fuzzer.plot_coverage()"
      ],
      "metadata": {
        "colab": {
          "base_uri": "https://localhost:8080/",
          "height": 472
        },
        "id": "kwbm7VmAcZiH",
        "outputId": "275cb256-4b5f-403a-9ba0-0e959f24e951"
      },
      "execution_count": 144,
      "outputs": [
        {
          "output_type": "display_data",
          "data": {
            "text/plain": [
              "<Figure size 640x480 with 1 Axes>"
            ],
            "image/png": "[encoded data removed]"
          },
          "metadata": {}
        }
      ]
    },
    {
      "cell_type": "code",
      "source": [
        "mutation_fuzzer = MutationFuzzerChecker(population=[\"ali@gmail.com\", \"mamad@yahoo.com\", \"ng@aut.ac.ir\"])\n",
        "mutation_fuzzer.check_coverage(is_valid_email, 200)\n",
        "mutation_fuzzer.plot_coverage()"
      ],
      "metadata": {
        "colab": {
          "base_uri": "https://localhost:8080/",
          "height": 472
        },
        "id": "u0gSaUnncJHM",
        "outputId": "eaef00bd-82e9-400c-f8d6-74cfccd44e73"
      },
      "execution_count": 145,
      "outputs": [
        {
          "output_type": "display_data",
          "data": {
            "text/plain": [
              "<Figure size 640x480 with 1 Axes>"
            ],
            "image/png": "[encoded data removed]"
          },
          "metadata": {}
        }
      ]
    },
    {
      "cell_type": "code",
      "source": [
        "random_fuzzer = RandomFuzzerChecker()\n",
        "random_fuzzer.check_coverage(check_password_strength, 200)\n",
        "random_fuzzer.plot_coverage()"
      ],
      "metadata": {
        "colab": {
          "base_uri": "https://localhost:8080/",
          "height": 472
        },
        "id": "zxASDU4PcjK1",
        "outputId": "b822b054-66f1-474e-8cd2-fbb1592b4a3e"
      },
      "execution_count": 146,
      "outputs": [
        {
          "output_type": "display_data",
          "data": {
            "text/plain": [
              "<Figure size 640x480 with 1 Axes>"
            ],
            "image/png": "[encoded data removed]"
          },
          "metadata": {}
        }
      ]
    },
    {
      "cell_type": "code",
      "source": [
        "mutation_fuzzer = MutationFuzzerChecker(population=[\"password\", \"12345678\", \"Concordia50:)\"])\n",
        "mutation_fuzzer.check_coverage(check_password_strength, 200)\n",
        "mutation_fuzzer.plot_coverage()"
      ],
      "metadata": {
        "colab": {
          "base_uri": "https://localhost:8080/",
          "height": 472
        },
        "id": "fS3Yo6G7ctUp",
        "outputId": "9faed98e-f8d5-4803-e883-17dedbf9c744"
      },
      "execution_count": 147,
      "outputs": [
        {
          "output_type": "display_data",
          "data": {
            "text/plain": [
              "<Figure size 640x480 with 1 Axes>"
            ],
            "image/png": "[encoded data removed]"
          },
          "metadata": {}
        }
      ]
    },
    {
      "cell_type": "code",
      "source": [
        "random_fuzzer = RandomFuzzerChecker()\n",
        "random_fuzzer.check_coverage(is_valid_name, 200)\n",
        "random_fuzzer.plot_coverage()"
      ],
      "metadata": {
        "colab": {
          "base_uri": "https://localhost:8080/",
          "height": 472
        },
        "id": "EH23654gfZrR",
        "outputId": "502cfbf7-e8c1-46e2-fd64-1e392f43eb59"
      },
      "execution_count": 148,
      "outputs": [
        {
          "output_type": "display_data",
          "data": {
            "text/plain": [
              "<Figure size 640x480 with 1 Axes>"
            ],
            "image/png": "[encoded data removed]"
          },
          "metadata": {}
        }
      ]
    },
    {
      "cell_type": "code",
      "source": [
        "mutation_fuzzer = MutationFuzzerChecker(population=[\"John Doe\", \"Taylor Swift\", \"Elizabeth-Anne\"])\n",
        "mutation_fuzzer.check_coverage(is_valid_name, 200)\n",
        "mutation_fuzzer.plot_coverage()"
      ],
      "metadata": {
        "colab": {
          "base_uri": "https://localhost:8080/",
          "height": 472
        },
        "id": "KG3mOTdafUPO",
        "outputId": "459add70-6f0f-4bd9-bf21-8124cc5251c9"
      },
      "execution_count": 149,
      "outputs": [
        {
          "output_type": "display_data",
          "data": {
            "text/plain": [
              "<Figure size 640x480 with 1 Axes>"
            ],
            "image/png": "[encoded data removed]"
          },
          "metadata": {}
        }
      ]
    }
  ],
  "metadata": {
    "kernelspec": {
      "display_name": "Python 3",
      "language": "python",
      "name": "python3"
    },
    "language_info": {
      "codemirror_mode": {
        "name": "ipython",
        "version": 3
      },
      "file_extension": ".py",
      "mimetype": "text/x-python",
      "name": "python",
      "nbconvert_exporter": "python",
      "pygments_lexer": "ipython3",
      "version": "3.6.5"
    },
    "colab": {
      "provenance": []
    }
  },
  "nbformat": 4,
  "nbformat_minor": 0
}